{
  "nbformat": 4,
  "nbformat_minor": 0,
  "metadata": {
    "colab": {
      "provenance": [],
      "mount_file_id": "1cxncWo2zx-9_FDyev4uefVkzypFli9Sy",
      "authorship_tag": "ABX9TyPj3Jlikddm3P0UXfUNuK9i",
      "include_colab_link": true
    },
    "kernelspec": {
      "name": "python3",
      "display_name": "Python 3"
    },
    "language_info": {
      "name": "python"
    }
  },
  "cells": [
    {
      "cell_type": "markdown",
      "metadata": {
        "id": "view-in-github",
        "colab_type": "text"
      },
      "source": [
        "<a href=\"https://colab.research.google.com/github/tiffanytay/tiffanytay.github.io/blob/main/Powered_by_TNT_Chatbot.ipynb\" target=\"_parent\"><img src=\"https://colab.research.google.com/assets/colab-badge.svg\" alt=\"Open In Colab\"/></a>"
      ]
    },
    {
      "cell_type": "code",
      "execution_count": 10,
      "metadata": {
        "colab": {
          "base_uri": "https://localhost:8080/"
        },
        "id": "Vptsg-LNekyD",
        "outputId": "08ba1138-a7d7-40a4-a106-2cd8ab1a6cdb"
      },
      "outputs": [
        {
          "output_type": "stream",
          "name": "stdout",
          "text": [
            "Collecting chatterbot\n",
            "  Downloading chatterbot-1.2.6-py3-none-any.whl.metadata (7.2 kB)\n",
            "Collecting mathparse<0.2,>=0.1 (from chatterbot)\n",
            "  Downloading mathparse-0.1.5-py3-none-any.whl.metadata (2.0 kB)\n",
            "Requirement already satisfied: python-dateutil<2.10,>=2.9 in /usr/local/lib/python3.11/dist-packages (from chatterbot) (2.9.0.post0)\n",
            "Requirement already satisfied: sqlalchemy<2.1,>=2.0 in /usr/local/lib/python3.11/dist-packages (from chatterbot) (2.0.40)\n",
            "Requirement already satisfied: spacy<3.9,>=3.8 in /usr/local/lib/python3.11/dist-packages (from chatterbot) (3.8.5)\n",
            "Requirement already satisfied: tqdm in /usr/local/lib/python3.11/dist-packages (from chatterbot) (4.67.1)\n",
            "Requirement already satisfied: six>=1.5 in /usr/local/lib/python3.11/dist-packages (from python-dateutil<2.10,>=2.9->chatterbot) (1.17.0)\n",
            "Requirement already satisfied: spacy-legacy<3.1.0,>=3.0.11 in /usr/local/lib/python3.11/dist-packages (from spacy<3.9,>=3.8->chatterbot) (3.0.12)\n",
            "Requirement already satisfied: spacy-loggers<2.0.0,>=1.0.0 in /usr/local/lib/python3.11/dist-packages (from spacy<3.9,>=3.8->chatterbot) (1.0.5)\n",
            "Requirement already satisfied: murmurhash<1.1.0,>=0.28.0 in /usr/local/lib/python3.11/dist-packages (from spacy<3.9,>=3.8->chatterbot) (1.0.12)\n",
            "Requirement already satisfied: cymem<2.1.0,>=2.0.2 in /usr/local/lib/python3.11/dist-packages (from spacy<3.9,>=3.8->chatterbot) (2.0.11)\n",
            "Requirement already satisfied: preshed<3.1.0,>=3.0.2 in /usr/local/lib/python3.11/dist-packages (from spacy<3.9,>=3.8->chatterbot) (3.0.9)\n",
            "Requirement already satisfied: thinc<8.4.0,>=8.3.4 in /usr/local/lib/python3.11/dist-packages (from spacy<3.9,>=3.8->chatterbot) (8.3.6)\n",
            "Requirement already satisfied: wasabi<1.2.0,>=0.9.1 in /usr/local/lib/python3.11/dist-packages (from spacy<3.9,>=3.8->chatterbot) (1.1.3)\n",
            "Requirement already satisfied: srsly<3.0.0,>=2.4.3 in /usr/local/lib/python3.11/dist-packages (from spacy<3.9,>=3.8->chatterbot) (2.5.1)\n",
            "Requirement already satisfied: catalogue<2.1.0,>=2.0.6 in /usr/local/lib/python3.11/dist-packages (from spacy<3.9,>=3.8->chatterbot) (2.0.10)\n",
            "Requirement already satisfied: weasel<0.5.0,>=0.1.0 in /usr/local/lib/python3.11/dist-packages (from spacy<3.9,>=3.8->chatterbot) (0.4.1)\n",
            "Requirement already satisfied: typer<1.0.0,>=0.3.0 in /usr/local/lib/python3.11/dist-packages (from spacy<3.9,>=3.8->chatterbot) (0.15.3)\n",
            "Requirement already satisfied: numpy>=1.19.0 in /usr/local/lib/python3.11/dist-packages (from spacy<3.9,>=3.8->chatterbot) (2.0.2)\n",
            "Requirement already satisfied: requests<3.0.0,>=2.13.0 in /usr/local/lib/python3.11/dist-packages (from spacy<3.9,>=3.8->chatterbot) (2.32.3)\n",
            "Requirement already satisfied: pydantic!=1.8,!=1.8.1,<3.0.0,>=1.7.4 in /usr/local/lib/python3.11/dist-packages (from spacy<3.9,>=3.8->chatterbot) (2.11.4)\n",
            "Requirement already satisfied: jinja2 in /usr/local/lib/python3.11/dist-packages (from spacy<3.9,>=3.8->chatterbot) (3.1.6)\n",
            "Requirement already satisfied: setuptools in /usr/local/lib/python3.11/dist-packages (from spacy<3.9,>=3.8->chatterbot) (75.2.0)\n",
            "Requirement already satisfied: packaging>=20.0 in /usr/local/lib/python3.11/dist-packages (from spacy<3.9,>=3.8->chatterbot) (24.2)\n",
            "Requirement already satisfied: langcodes<4.0.0,>=3.2.0 in /usr/local/lib/python3.11/dist-packages (from spacy<3.9,>=3.8->chatterbot) (3.5.0)\n",
            "Requirement already satisfied: greenlet>=1 in /usr/local/lib/python3.11/dist-packages (from sqlalchemy<2.1,>=2.0->chatterbot) (3.2.2)\n",
            "Requirement already satisfied: typing-extensions>=4.6.0 in /usr/local/lib/python3.11/dist-packages (from sqlalchemy<2.1,>=2.0->chatterbot) (4.13.2)\n",
            "Requirement already satisfied: language-data>=1.2 in /usr/local/lib/python3.11/dist-packages (from langcodes<4.0.0,>=3.2.0->spacy<3.9,>=3.8->chatterbot) (1.3.0)\n",
            "Requirement already satisfied: annotated-types>=0.6.0 in /usr/local/lib/python3.11/dist-packages (from pydantic!=1.8,!=1.8.1,<3.0.0,>=1.7.4->spacy<3.9,>=3.8->chatterbot) (0.7.0)\n",
            "Requirement already satisfied: pydantic-core==2.33.2 in /usr/local/lib/python3.11/dist-packages (from pydantic!=1.8,!=1.8.1,<3.0.0,>=1.7.4->spacy<3.9,>=3.8->chatterbot) (2.33.2)\n",
            "Requirement already satisfied: typing-inspection>=0.4.0 in /usr/local/lib/python3.11/dist-packages (from pydantic!=1.8,!=1.8.1,<3.0.0,>=1.7.4->spacy<3.9,>=3.8->chatterbot) (0.4.0)\n",
            "Requirement already satisfied: charset-normalizer<4,>=2 in /usr/local/lib/python3.11/dist-packages (from requests<3.0.0,>=2.13.0->spacy<3.9,>=3.8->chatterbot) (3.4.2)\n",
            "Requirement already satisfied: idna<4,>=2.5 in /usr/local/lib/python3.11/dist-packages (from requests<3.0.0,>=2.13.0->spacy<3.9,>=3.8->chatterbot) (3.10)\n",
            "Requirement already satisfied: urllib3<3,>=1.21.1 in /usr/local/lib/python3.11/dist-packages (from requests<3.0.0,>=2.13.0->spacy<3.9,>=3.8->chatterbot) (2.4.0)\n",
            "Requirement already satisfied: certifi>=2017.4.17 in /usr/local/lib/python3.11/dist-packages (from requests<3.0.0,>=2.13.0->spacy<3.9,>=3.8->chatterbot) (2025.4.26)\n",
            "Requirement already satisfied: blis<1.4.0,>=1.3.0 in /usr/local/lib/python3.11/dist-packages (from thinc<8.4.0,>=8.3.4->spacy<3.9,>=3.8->chatterbot) (1.3.0)\n",
            "Requirement already satisfied: confection<1.0.0,>=0.0.1 in /usr/local/lib/python3.11/dist-packages (from thinc<8.4.0,>=8.3.4->spacy<3.9,>=3.8->chatterbot) (0.1.5)\n",
            "Requirement already satisfied: click>=8.0.0 in /usr/local/lib/python3.11/dist-packages (from typer<1.0.0,>=0.3.0->spacy<3.9,>=3.8->chatterbot) (8.2.0)\n",
            "Requirement already satisfied: shellingham>=1.3.0 in /usr/local/lib/python3.11/dist-packages (from typer<1.0.0,>=0.3.0->spacy<3.9,>=3.8->chatterbot) (1.5.4)\n",
            "Requirement already satisfied: rich>=10.11.0 in /usr/local/lib/python3.11/dist-packages (from typer<1.0.0,>=0.3.0->spacy<3.9,>=3.8->chatterbot) (13.9.4)\n",
            "Requirement already satisfied: cloudpathlib<1.0.0,>=0.7.0 in /usr/local/lib/python3.11/dist-packages (from weasel<0.5.0,>=0.1.0->spacy<3.9,>=3.8->chatterbot) (0.21.0)\n",
            "Requirement already satisfied: smart-open<8.0.0,>=5.2.1 in /usr/local/lib/python3.11/dist-packages (from weasel<0.5.0,>=0.1.0->spacy<3.9,>=3.8->chatterbot) (7.1.0)\n",
            "Requirement already satisfied: MarkupSafe>=2.0 in /usr/local/lib/python3.11/dist-packages (from jinja2->spacy<3.9,>=3.8->chatterbot) (3.0.2)\n",
            "Requirement already satisfied: marisa-trie>=1.1.0 in /usr/local/lib/python3.11/dist-packages (from language-data>=1.2->langcodes<4.0.0,>=3.2.0->spacy<3.9,>=3.8->chatterbot) (1.2.1)\n",
            "Requirement already satisfied: markdown-it-py>=2.2.0 in /usr/local/lib/python3.11/dist-packages (from rich>=10.11.0->typer<1.0.0,>=0.3.0->spacy<3.9,>=3.8->chatterbot) (3.0.0)\n",
            "Requirement already satisfied: pygments<3.0.0,>=2.13.0 in /usr/local/lib/python3.11/dist-packages (from rich>=10.11.0->typer<1.0.0,>=0.3.0->spacy<3.9,>=3.8->chatterbot) (2.19.1)\n",
            "Requirement already satisfied: wrapt in /usr/local/lib/python3.11/dist-packages (from smart-open<8.0.0,>=5.2.1->weasel<0.5.0,>=0.1.0->spacy<3.9,>=3.8->chatterbot) (1.17.2)\n",
            "Requirement already satisfied: mdurl~=0.1 in /usr/local/lib/python3.11/dist-packages (from markdown-it-py>=2.2.0->rich>=10.11.0->typer<1.0.0,>=0.3.0->spacy<3.9,>=3.8->chatterbot) (0.1.2)\n",
            "Downloading chatterbot-1.2.6-py3-none-any.whl (74 kB)\n",
            "\u001b[2K   \u001b[90m━━━━━━━━━━━━━━━━━━━━━━━━━━━━━━━━━━━━━━━━\u001b[0m \u001b[32m74.5/74.5 kB\u001b[0m \u001b[31m3.9 MB/s\u001b[0m eta \u001b[36m0:00:00\u001b[0m\n",
            "\u001b[?25hDownloading mathparse-0.1.5-py3-none-any.whl (8.8 kB)\n",
            "Installing collected packages: mathparse, chatterbot\n",
            "Successfully installed chatterbot-1.2.6 mathparse-0.1.5\n",
            "Collecting chatterbot_corpus\n",
            "  Downloading chatterbot_corpus-1.2.2-py2.py3-none-any.whl.metadata (1.1 kB)\n",
            "Downloading chatterbot_corpus-1.2.2-py2.py3-none-any.whl (240 kB)\n",
            "\u001b[2K   \u001b[90m━━━━━━━━━━━━━━━━━━━━━━━━━━━━━━━━━━━━━━━━\u001b[0m \u001b[32m240.5/240.5 kB\u001b[0m \u001b[31m9.1 MB/s\u001b[0m eta \u001b[36m0:00:00\u001b[0m\n",
            "\u001b[?25hInstalling collected packages: chatterbot_corpus\n",
            "Successfully installed chatterbot_corpus-1.2.2\n"
          ]
        }
      ],
      "source": [
        "# Install python libraries if not already installed\n",
        "!pip install chatterbot\n",
        "!pip install chatterbot_corpus"
      ]
    },
    {
      "cell_type": "code",
      "source": [
        "# Print file paths of corpus files\n",
        "import os\n",
        "import chatterbot_corpus\n",
        "\n",
        "corpus_path = chatterbot_corpus.__path__[0]\n",
        "\n",
        "for root, _, files in os.walk(corpus_path):\n",
        "    for file in files:\n",
        "        print(os.path.join(root, file))"
      ],
      "metadata": {
        "colab": {
          "base_uri": "https://localhost:8080/"
        },
        "id": "uT0cEZj8fX92",
        "outputId": "7940b3be-fd6b-45fc-803b-4a3163269094"
      },
      "execution_count": 11,
      "outputs": [
        {
          "output_type": "stream",
          "name": "stdout",
          "text": [
            "/usr/local/lib/python3.11/dist-packages/chatterbot_corpus/corpus.py\n",
            "/usr/local/lib/python3.11/dist-packages/chatterbot_corpus/__init__.py\n",
            "/usr/local/lib/python3.11/dist-packages/chatterbot_corpus/data/italian/conversations.yml\n",
            "/usr/local/lib/python3.11/dist-packages/chatterbot_corpus/data/italian/food.yml\n",
            "/usr/local/lib/python3.11/dist-packages/chatterbot_corpus/data/italian/trivia.yml\n",
            "/usr/local/lib/python3.11/dist-packages/chatterbot_corpus/data/italian/health.yml\n",
            "/usr/local/lib/python3.11/dist-packages/chatterbot_corpus/data/italian/history.yml\n",
            "/usr/local/lib/python3.11/dist-packages/chatterbot_corpus/data/italian/greetings.yml\n",
            "/usr/local/lib/python3.11/dist-packages/chatterbot_corpus/data/italian/literature.yml\n",
            "/usr/local/lib/python3.11/dist-packages/chatterbot_corpus/data/korean/gossip.yml\n",
            "/usr/local/lib/python3.11/dist-packages/chatterbot_corpus/data/korean/movies.yml\n",
            "/usr/local/lib/python3.11/dist-packages/chatterbot_corpus/data/korean/money.yml\n",
            "/usr/local/lib/python3.11/dist-packages/chatterbot_corpus/data/korean/science.yml\n",
            "/usr/local/lib/python3.11/dist-packages/chatterbot_corpus/data/korean/psychology.yml\n",
            "/usr/local/lib/python3.11/dist-packages/chatterbot_corpus/data/korean/humor.yml\n",
            "/usr/local/lib/python3.11/dist-packages/chatterbot_corpus/data/korean/conversations.yml\n",
            "/usr/local/lib/python3.11/dist-packages/chatterbot_corpus/data/korean/politics.yml\n",
            "/usr/local/lib/python3.11/dist-packages/chatterbot_corpus/data/korean/food.yml\n",
            "/usr/local/lib/python3.11/dist-packages/chatterbot_corpus/data/korean/emotion.yml\n",
            "/usr/local/lib/python3.11/dist-packages/chatterbot_corpus/data/korean/trivia.yml\n",
            "/usr/local/lib/python3.11/dist-packages/chatterbot_corpus/data/korean/health.yml\n",
            "/usr/local/lib/python3.11/dist-packages/chatterbot_corpus/data/korean/ai.yml\n",
            "/usr/local/lib/python3.11/dist-packages/chatterbot_corpus/data/korean/history.yml\n",
            "/usr/local/lib/python3.11/dist-packages/chatterbot_corpus/data/korean/sports.yml\n",
            "/usr/local/lib/python3.11/dist-packages/chatterbot_corpus/data/korean/computers.yml\n",
            "/usr/local/lib/python3.11/dist-packages/chatterbot_corpus/data/korean/greetings.yml\n",
            "/usr/local/lib/python3.11/dist-packages/chatterbot_corpus/data/korean/literature.yml\n",
            "/usr/local/lib/python3.11/dist-packages/chatterbot_corpus/data/korean/botprofile.yml\n",
            "/usr/local/lib/python3.11/dist-packages/chatterbot_corpus/data/french/conversations.yml\n",
            "/usr/local/lib/python3.11/dist-packages/chatterbot_corpus/data/french/food.yml\n",
            "/usr/local/lib/python3.11/dist-packages/chatterbot_corpus/data/french/trivia.yml\n",
            "/usr/local/lib/python3.11/dist-packages/chatterbot_corpus/data/french/greetings.yml\n",
            "/usr/local/lib/python3.11/dist-packages/chatterbot_corpus/data/french/botprofile.yml\n",
            "/usr/local/lib/python3.11/dist-packages/chatterbot_corpus/data/spanish/dinero.yml\n",
            "/usr/local/lib/python3.11/dist-packages/chatterbot_corpus/data/spanish/psicologia.yml\n",
            "/usr/local/lib/python3.11/dist-packages/chatterbot_corpus/data/spanish/IA.yml\n",
            "/usr/local/lib/python3.11/dist-packages/chatterbot_corpus/data/spanish/conversations.yml\n",
            "/usr/local/lib/python3.11/dist-packages/chatterbot_corpus/data/spanish/trivia.yml\n",
            "/usr/local/lib/python3.11/dist-packages/chatterbot_corpus/data/spanish/greetings.yml\n",
            "/usr/local/lib/python3.11/dist-packages/chatterbot_corpus/data/spanish/emociones.yml\n",
            "/usr/local/lib/python3.11/dist-packages/chatterbot_corpus/data/swedish/conversations.yml\n",
            "/usr/local/lib/python3.11/dist-packages/chatterbot_corpus/data/swedish/food.yml\n",
            "/usr/local/lib/python3.11/dist-packages/chatterbot_corpus/data/swedish/ai.yml\n",
            "/usr/local/lib/python3.11/dist-packages/chatterbot_corpus/data/swedish/sports.yml\n",
            "/usr/local/lib/python3.11/dist-packages/chatterbot_corpus/data/swedish/greetings.yml\n",
            "/usr/local/lib/python3.11/dist-packages/chatterbot_corpus/data/turkish/conversations.yml\n",
            "/usr/local/lib/python3.11/dist-packages/chatterbot_corpus/data/turkish/food.yml\n",
            "/usr/local/lib/python3.11/dist-packages/chatterbot_corpus/data/turkish/emotion.yml\n",
            "/usr/local/lib/python3.11/dist-packages/chatterbot_corpus/data/turkish/ai.yml\n",
            "/usr/local/lib/python3.11/dist-packages/chatterbot_corpus/data/turkish/greetings.yml\n",
            "/usr/local/lib/python3.11/dist-packages/chatterbot_corpus/data/turkish/botprofile.yml\n",
            "/usr/local/lib/python3.11/dist-packages/chatterbot_corpus/data/oriya/conversations.yml\n",
            "/usr/local/lib/python3.11/dist-packages/chatterbot_corpus/data/oriya/greetings.yml\n",
            "/usr/local/lib/python3.11/dist-packages/chatterbot_corpus/data/traditionalchinese/gossip.yml\n",
            "/usr/local/lib/python3.11/dist-packages/chatterbot_corpus/data/traditionalchinese/movies.yml\n",
            "/usr/local/lib/python3.11/dist-packages/chatterbot_corpus/data/traditionalchinese/money.yml\n",
            "/usr/local/lib/python3.11/dist-packages/chatterbot_corpus/data/traditionalchinese/science.yml\n",
            "/usr/local/lib/python3.11/dist-packages/chatterbot_corpus/data/traditionalchinese/psychology.yml\n",
            "/usr/local/lib/python3.11/dist-packages/chatterbot_corpus/data/traditionalchinese/humor.yml\n",
            "/usr/local/lib/python3.11/dist-packages/chatterbot_corpus/data/traditionalchinese/conversations.yml\n",
            "/usr/local/lib/python3.11/dist-packages/chatterbot_corpus/data/traditionalchinese/politics.yml\n",
            "/usr/local/lib/python3.11/dist-packages/chatterbot_corpus/data/traditionalchinese/food.yml\n",
            "/usr/local/lib/python3.11/dist-packages/chatterbot_corpus/data/traditionalchinese/emotion.yml\n",
            "/usr/local/lib/python3.11/dist-packages/chatterbot_corpus/data/traditionalchinese/trivia.yml\n",
            "/usr/local/lib/python3.11/dist-packages/chatterbot_corpus/data/traditionalchinese/ai.yml\n",
            "/usr/local/lib/python3.11/dist-packages/chatterbot_corpus/data/traditionalchinese/history.yml\n",
            "/usr/local/lib/python3.11/dist-packages/chatterbot_corpus/data/traditionalchinese/sports.yml\n",
            "/usr/local/lib/python3.11/dist-packages/chatterbot_corpus/data/traditionalchinese/greetings.yml\n",
            "/usr/local/lib/python3.11/dist-packages/chatterbot_corpus/data/traditionalchinese/literature.yml\n",
            "/usr/local/lib/python3.11/dist-packages/chatterbot_corpus/data/traditionalchinese/botprofile.yml\n",
            "/usr/local/lib/python3.11/dist-packages/chatterbot_corpus/data/english/gossip.yml\n",
            "/usr/local/lib/python3.11/dist-packages/chatterbot_corpus/data/english/movies.yml\n",
            "/usr/local/lib/python3.11/dist-packages/chatterbot_corpus/data/english/money.yml\n",
            "/usr/local/lib/python3.11/dist-packages/chatterbot_corpus/data/english/science.yml\n",
            "/usr/local/lib/python3.11/dist-packages/chatterbot_corpus/data/english/psychology.yml\n",
            "/usr/local/lib/python3.11/dist-packages/chatterbot_corpus/data/english/humor.yml\n",
            "/usr/local/lib/python3.11/dist-packages/chatterbot_corpus/data/english/conversations.yml\n",
            "/usr/local/lib/python3.11/dist-packages/chatterbot_corpus/data/english/politics.yml\n",
            "/usr/local/lib/python3.11/dist-packages/chatterbot_corpus/data/english/food.yml\n",
            "/usr/local/lib/python3.11/dist-packages/chatterbot_corpus/data/english/emotion.yml\n",
            "/usr/local/lib/python3.11/dist-packages/chatterbot_corpus/data/english/trivia.yml\n",
            "/usr/local/lib/python3.11/dist-packages/chatterbot_corpus/data/english/health.yml\n",
            "/usr/local/lib/python3.11/dist-packages/chatterbot_corpus/data/english/ai.yml\n",
            "/usr/local/lib/python3.11/dist-packages/chatterbot_corpus/data/english/history.yml\n",
            "/usr/local/lib/python3.11/dist-packages/chatterbot_corpus/data/english/sports.yml\n",
            "/usr/local/lib/python3.11/dist-packages/chatterbot_corpus/data/english/computers.yml\n",
            "/usr/local/lib/python3.11/dist-packages/chatterbot_corpus/data/english/greetings.yml\n",
            "/usr/local/lib/python3.11/dist-packages/chatterbot_corpus/data/english/literature.yml\n",
            "/usr/local/lib/python3.11/dist-packages/chatterbot_corpus/data/english/botprofile.yml\n",
            "/usr/local/lib/python3.11/dist-packages/chatterbot_corpus/data/bengali/emotions.yml\n",
            "/usr/local/lib/python3.11/dist-packages/chatterbot_corpus/data/bengali/computer.yml\n",
            "/usr/local/lib/python3.11/dist-packages/chatterbot_corpus/data/bengali/greetings.yml\n",
            "/usr/local/lib/python3.11/dist-packages/chatterbot_corpus/data/bengali/botprofile.yml\n",
            "/usr/local/lib/python3.11/dist-packages/chatterbot_corpus/data/chinese/gossip.yml\n",
            "/usr/local/lib/python3.11/dist-packages/chatterbot_corpus/data/chinese/movies.yml\n",
            "/usr/local/lib/python3.11/dist-packages/chatterbot_corpus/data/chinese/money.yml\n",
            "/usr/local/lib/python3.11/dist-packages/chatterbot_corpus/data/chinese/science.yml\n",
            "/usr/local/lib/python3.11/dist-packages/chatterbot_corpus/data/chinese/psychology.yml\n",
            "/usr/local/lib/python3.11/dist-packages/chatterbot_corpus/data/chinese/humor.yml\n",
            "/usr/local/lib/python3.11/dist-packages/chatterbot_corpus/data/chinese/conversations.yml\n",
            "/usr/local/lib/python3.11/dist-packages/chatterbot_corpus/data/chinese/politics.yml\n",
            "/usr/local/lib/python3.11/dist-packages/chatterbot_corpus/data/chinese/food.yml\n",
            "/usr/local/lib/python3.11/dist-packages/chatterbot_corpus/data/chinese/emotion.yml\n",
            "/usr/local/lib/python3.11/dist-packages/chatterbot_corpus/data/chinese/trivia.yml\n",
            "/usr/local/lib/python3.11/dist-packages/chatterbot_corpus/data/chinese/ai.yml\n",
            "/usr/local/lib/python3.11/dist-packages/chatterbot_corpus/data/chinese/history.yml\n",
            "/usr/local/lib/python3.11/dist-packages/chatterbot_corpus/data/chinese/sports.yml\n",
            "/usr/local/lib/python3.11/dist-packages/chatterbot_corpus/data/chinese/greetings.yml\n",
            "/usr/local/lib/python3.11/dist-packages/chatterbot_corpus/data/chinese/literature.yml\n",
            "/usr/local/lib/python3.11/dist-packages/chatterbot_corpus/data/chinese/botprofile.yml\n",
            "/usr/local/lib/python3.11/dist-packages/chatterbot_corpus/data/russian/money.yml\n",
            "/usr/local/lib/python3.11/dist-packages/chatterbot_corpus/data/russian/conversations.yml\n",
            "/usr/local/lib/python3.11/dist-packages/chatterbot_corpus/data/russian/food.yml\n",
            "/usr/local/lib/python3.11/dist-packages/chatterbot_corpus/data/thai/greeting.yml\n",
            "/usr/local/lib/python3.11/dist-packages/chatterbot_corpus/data/hindi/coversations.yml\n",
            "/usr/local/lib/python3.11/dist-packages/chatterbot_corpus/data/hindi/greetings.yml\n",
            "/usr/local/lib/python3.11/dist-packages/chatterbot_corpus/data/marathi/conversations.yml\n",
            "/usr/local/lib/python3.11/dist-packages/chatterbot_corpus/data/marathi/greetings.yml\n",
            "/usr/local/lib/python3.11/dist-packages/chatterbot_corpus/data/telugu/conversations.yml\n",
            "/usr/local/lib/python3.11/dist-packages/chatterbot_corpus/data/german/conversations.yml\n",
            "/usr/local/lib/python3.11/dist-packages/chatterbot_corpus/data/german/food.yml\n",
            "/usr/local/lib/python3.11/dist-packages/chatterbot_corpus/data/german/health.yml\n",
            "/usr/local/lib/python3.11/dist-packages/chatterbot_corpus/data/german/history.yml\n",
            "/usr/local/lib/python3.11/dist-packages/chatterbot_corpus/data/german/greetings.yml\n",
            "/usr/local/lib/python3.11/dist-packages/chatterbot_corpus/data/indonesian/conversations.yml\n",
            "/usr/local/lib/python3.11/dist-packages/chatterbot_corpus/data/indonesian/trivia.yml\n",
            "/usr/local/lib/python3.11/dist-packages/chatterbot_corpus/data/indonesian/greetings.yml\n",
            "/usr/local/lib/python3.11/dist-packages/chatterbot_corpus/data/persian/gossip.yml\n",
            "/usr/local/lib/python3.11/dist-packages/chatterbot_corpus/data/persian/movies.yml\n",
            "/usr/local/lib/python3.11/dist-packages/chatterbot_corpus/data/persian/profile.yml\n",
            "/usr/local/lib/python3.11/dist-packages/chatterbot_corpus/data/persian/money.yml\n",
            "/usr/local/lib/python3.11/dist-packages/chatterbot_corpus/data/persian/science.yml\n",
            "/usr/local/lib/python3.11/dist-packages/chatterbot_corpus/data/persian/psychology.yml\n",
            "/usr/local/lib/python3.11/dist-packages/chatterbot_corpus/data/persian/humor.yml\n",
            "/usr/local/lib/python3.11/dist-packages/chatterbot_corpus/data/persian/conversations.yml\n",
            "/usr/local/lib/python3.11/dist-packages/chatterbot_corpus/data/persian/politics.yml\n",
            "/usr/local/lib/python3.11/dist-packages/chatterbot_corpus/data/persian/food.yml\n",
            "/usr/local/lib/python3.11/dist-packages/chatterbot_corpus/data/persian/emotion.yml\n",
            "/usr/local/lib/python3.11/dist-packages/chatterbot_corpus/data/persian/trivia.yml\n",
            "/usr/local/lib/python3.11/dist-packages/chatterbot_corpus/data/persian/history.yml\n",
            "/usr/local/lib/python3.11/dist-packages/chatterbot_corpus/data/persian/sports.yml\n",
            "/usr/local/lib/python3.11/dist-packages/chatterbot_corpus/data/persian/computers.yml\n",
            "/usr/local/lib/python3.11/dist-packages/chatterbot_corpus/data/persian/greetings.yml\n",
            "/usr/local/lib/python3.11/dist-packages/chatterbot_corpus/data/persian/literature.yml\n",
            "/usr/local/lib/python3.11/dist-packages/chatterbot_corpus/data/japanese/gossip.yml\n",
            "/usr/local/lib/python3.11/dist-packages/chatterbot_corpus/data/japanese/movies.yml\n",
            "/usr/local/lib/python3.11/dist-packages/chatterbot_corpus/data/japanese/money.yml\n",
            "/usr/local/lib/python3.11/dist-packages/chatterbot_corpus/data/japanese/science.yml\n",
            "/usr/local/lib/python3.11/dist-packages/chatterbot_corpus/data/japanese/psychology.yml\n",
            "/usr/local/lib/python3.11/dist-packages/chatterbot_corpus/data/japanese/humor.yml\n",
            "/usr/local/lib/python3.11/dist-packages/chatterbot_corpus/data/japanese/conversations.yml\n",
            "/usr/local/lib/python3.11/dist-packages/chatterbot_corpus/data/japanese/politics.yml\n",
            "/usr/local/lib/python3.11/dist-packages/chatterbot_corpus/data/japanese/food.yml\n",
            "/usr/local/lib/python3.11/dist-packages/chatterbot_corpus/data/japanese/emotion.yml\n",
            "/usr/local/lib/python3.11/dist-packages/chatterbot_corpus/data/japanese/trivia.yml\n",
            "/usr/local/lib/python3.11/dist-packages/chatterbot_corpus/data/japanese/health.yml\n",
            "/usr/local/lib/python3.11/dist-packages/chatterbot_corpus/data/japanese/ai.yml\n",
            "/usr/local/lib/python3.11/dist-packages/chatterbot_corpus/data/japanese/history.yml\n",
            "/usr/local/lib/python3.11/dist-packages/chatterbot_corpus/data/japanese/sports.yml\n",
            "/usr/local/lib/python3.11/dist-packages/chatterbot_corpus/data/japanese/computers.yml\n",
            "/usr/local/lib/python3.11/dist-packages/chatterbot_corpus/data/japanese/greetings.yml\n",
            "/usr/local/lib/python3.11/dist-packages/chatterbot_corpus/data/japanese/literature.yml\n",
            "/usr/local/lib/python3.11/dist-packages/chatterbot_corpus/data/japanese/botprofile.yml\n",
            "/usr/local/lib/python3.11/dist-packages/chatterbot_corpus/data/portuguese/suggestions.yml\n",
            "/usr/local/lib/python3.11/dist-packages/chatterbot_corpus/data/portuguese/unilab.yml\n",
            "/usr/local/lib/python3.11/dist-packages/chatterbot_corpus/data/portuguese/money.yml\n",
            "/usr/local/lib/python3.11/dist-packages/chatterbot_corpus/data/portuguese/linguistic_knowledge.yml\n",
            "/usr/local/lib/python3.11/dist-packages/chatterbot_corpus/data/portuguese/conversations.yml\n",
            "/usr/local/lib/python3.11/dist-packages/chatterbot_corpus/data/portuguese/compliment.yml\n",
            "/usr/local/lib/python3.11/dist-packages/chatterbot_corpus/data/portuguese/proverbs.yml\n",
            "/usr/local/lib/python3.11/dist-packages/chatterbot_corpus/data/portuguese/trivia.yml\n",
            "/usr/local/lib/python3.11/dist-packages/chatterbot_corpus/data/portuguese/greetings.yml\n",
            "/usr/local/lib/python3.11/dist-packages/chatterbot_corpus/data/portuguese/games.yml\n",
            "/usr/local/lib/python3.11/dist-packages/chatterbot_corpus/data/hebrew/conversations.yml\n",
            "/usr/local/lib/python3.11/dist-packages/chatterbot_corpus/data/hebrew/greetings.yml\n",
            "/usr/local/lib/python3.11/dist-packages/chatterbot_corpus/data/hebrew/botprofile.yml\n",
            "/usr/local/lib/python3.11/dist-packages/chatterbot_corpus/__pycache__/corpus.cpython-311.pyc\n",
            "/usr/local/lib/python3.11/dist-packages/chatterbot_corpus/__pycache__/__init__.cpython-311.pyc\n"
          ]
        }
      ]
    },
    {
      "cell_type": "code",
      "source": [
        "from chatterbot import ChatBot as cb\n",
        "from chatterbot.trainers import ChatterBotCorpusTrainer\n",
        "\n",
        "# Name chatbot\n",
        "chatbot = cb('Powered by TNT Chatbot')\n",
        "\n",
        "# Create a new trainer for the chatbot\n",
        "trainer = ChatterBotCorpusTrainer(chatbot)\n",
        "\n",
        "# Train the chatbot based on the English corpus, greetings, conversations, humor\n",
        "trainer.train(\n",
        "    \"/usr/local/lib/python3.11/dist-packages/chatterbot_corpus/data/english/conversations.yml\",\n",
        "    \"/usr/local/lib/python3.11/dist-packages/chatterbot_corpus/data/english/humor.yml\",\n",
        "    \"/usr/local/lib/python3.11/dist-packages/chatterbot_corpus/data/english/greetings.yml\"\n",
        ")"
      ],
      "metadata": {
        "colab": {
          "base_uri": "https://localhost:8080/"
        },
        "id": "OkMkN-e6epWu",
        "outputId": "7c10ff19-5ad4-465b-88fb-af919511122c"
      },
      "execution_count": 12,
      "outputs": [
        {
          "output_type": "stream",
          "name": "stderr",
          "text": [
            "ChatterBot Corpus Trainer: 3it [00:00,  3.92it/s]\n"
          ]
        }
      ]
    },
    {
      "cell_type": "code",
      "source": [
        "# Test generic corpuses - 1\n",
        "response = chatbot.get_response('Hi')\n",
        "print(response)"
      ],
      "metadata": {
        "colab": {
          "base_uri": "https://localhost:8080/"
        },
        "id": "B41fKFcvke_c",
        "outputId": "ea95011d-b270-4d76-cc81-6124f3ef4764"
      },
      "execution_count": 20,
      "outputs": [
        {
          "output_type": "stream",
          "name": "stdout",
          "text": [
            "How are you doing?\n"
          ]
        }
      ]
    },
    {
      "cell_type": "code",
      "source": [
        "# Test generic corpuses - 2\n",
        "response = chatbot.get_response('Are you funny?')\n",
        "print(response)"
      ],
      "metadata": {
        "colab": {
          "base_uri": "https://localhost:8080/"
        },
        "id": "xZHmZVugiYGr",
        "outputId": "d891bd89-90e0-4899-9b1d-ee5006cf11f1"
      },
      "execution_count": 21,
      "outputs": [
        {
          "output_type": "stream",
          "name": "stdout",
          "text": [
            "I am doing well.\n"
          ]
        }
      ]
    },
    {
      "cell_type": "code",
      "source": [
        "# Get custom corpus json from Github\n",
        "import urllib.request\n",
        "import json\n",
        "import pandas as pd\n",
        "\n",
        "# Raw url for custom corpus json file in Github\n",
        "url = 'https://raw.githubusercontent.com/tiffanytay/tiffanytay.github.io/refs/heads/main/projects/powered_by_tnt/custom_corpus_training_data.json'\n",
        "response = urllib.request.urlopen(url)\n",
        "# Save json data to 'data'\n",
        "data = json.loads(response.read())\n",
        "# Check 'data'\n",
        "print(data)"
      ],
      "metadata": {
        "colab": {
          "base_uri": "https://localhost:8080/"
        },
        "id": "X94q5093mfmE",
        "outputId": "bcb85b14-3e77-411c-fff9-66ff730adcbf"
      },
      "execution_count": 22,
      "outputs": [
        {
          "output_type": "stream",
          "name": "stdout",
          "text": [
            "{'conversations': [{'text': 'Certainly! I have extensive experience leading cross-functional teams to deliver successful B2B SaaS products. My background includes managing the entire product lifecycle, from ideation and market research to launch and post-launch optimization.', 'in_response_to': 'Can you tell me about your experience in product management?', 'persona': 'recruiter', 'conversation': 'test', 'tags': ['product management', 'B2B SaaS', 'cross-functional teams']}, {'text': 'I have a strong background in both product management and nonprofit operations. I have successfully led product initiatives that align with organizational goals, driving efficiency and innovation in the nonprofit sector.', 'in_response_to': 'What is your experience in nonprofit operations?', 'persona': 'recruiter', 'conversation': 'test', 'tags': ['nonprofit', 'operations', 'product management']}, {'text': 'I am passionate about leveraging technology to drive social impact. I believe that my skills in product management can help nonprofit organizations optimize their operations and better serve their communities.', 'in_response_to': 'Why are you interested in nonprofit operations?', 'persona': 'recruiter', 'conversation': 'test', 'tags': ['nonprofit', 'operations', 'technology']}, {'text': 'I have a proven track record of successfully launching and scaling SaaS products. My experience includes conducting market research, defining product requirements, and collaborating with engineering and design teams to deliver high-quality solutions.', 'in_response_to': 'Can you describe your experience with SaaS products?', 'persona': 'recruiter', 'conversation': 'test', 'tags': ['SaaS', 'product launch', 'market research']}, {'text': 'I believe in a collaborative leadership style that empowers team members to take ownership of their work. I prioritize open communication and encourage feedback to foster a positive team environment.', 'in_response_to': 'What is your leadership style?', 'persona': 'recruiter', 'conversation': 'test', 'tags': ['leadership', 'collaboration', 'teamwork']}, {'text': 'I have experience working with various product management tools, including Jira, Trello, and Asana. I am also proficient in data analysis tools like Google Analytics and Tableau to inform product decisions.', 'in_response_to': 'What tools do you use for product management?', 'persona': 'recruiter', 'conversation': 'test', 'tags': ['product management', 'tools', 'data analysis']}, {'text': 'I approach product strategy by aligning it with the overall business goals and customer needs. I conduct thorough market research and gather user feedback to inform our product roadmap.', 'in_response_to': 'How do you approach product strategy?', 'persona': 'recruiter', 'conversation': 'test', 'tags': ['product strategy', 'business goals', 'user feedback']}, {'text': 'I prioritize stakeholder management by maintaining open lines of communication and actively seeking input from all relevant parties. I believe that collaboration is key to successful product development.', 'in_response_to': 'How do you manage stakeholders?', 'persona': 'recruiter', 'conversation': 'test', 'tags': ['stakeholder management', 'communication', 'collaboration']}, {'text': \"I am motivated by the opportunity to create products that make a difference in people's lives. I find fulfillment in solving complex problems and driving positive change through technology.\", 'in_response_to': 'What motivates you in your work?', 'persona': 'recruiter', 'conversation': 'test', 'tags': ['motivation', 'technology', 'problem solving']}, {'text': 'I handle challenges by maintaining a positive attitude and focusing on solutions. I believe in learning from setbacks and using them as opportunities for growth and improvement.', 'in_response_to': 'How do you handle challenges?', 'persona': 'recruiter', 'conversation': 'test', 'tags': ['challenges', 'problem solving', 'growth']}, {'text': 'I have successfully led a project that involved launching a new feature for our SaaS product, resulting in a 25% increase in user engagement. This required close collaboration with cross-functional teams and effective project management.', 'in_response_to': 'Can you provide an example of a successful project you led?', 'persona': 'recruiter', 'conversation': 'test', 'tags': ['project management', 'success', 'user engagement']}, {'text': 'I am passionate about using my skills to support nonprofit organizations in achieving their missions. I believe that my background in product management can help drive efficiency and innovation in the sector.', 'in_response_to': 'Why are you interested in nonprofit operations?', 'persona': 'recruiter', 'conversation': 'test', 'tags': ['nonprofit', 'operations', 'passion']}, {'text': 'I am proficient in various product management tools, including Jira, Trello, and Asana. I also have experience with data analysis tools like Google Analytics and Tableau to inform product decisions.', 'in_response_to': 'What tools do you use for product management?', 'persona': 'recruiter', 'conversation': 'test', 'tags': ['product management', 'tools', 'data analysis']}, {'text': 'I ensure product-market fit by continuously gathering customer feedback and analyzing market trends. I prioritize features that align with user needs and business objectives to create a successful product.', 'in_response_to': 'How do you ensure product-market fit?', 'persona': 'recruiter', 'conversation': 'test', 'tags': ['product-market fit', 'customer feedback', 'market trends']}, {'text': 'I am motivated by the opportunity to create products that have a positive impact on users. I find fulfillment in solving complex problems and driving innovation through technology.', 'in_response_to': 'What motivates you in your work?', 'persona': 'recruiter', 'conversation': 'test', 'tags': ['motivation', 'technology', 'innovation']}, {'text': 'I handle challenges by maintaining a positive attitude and focusing on solutions. I believe in learning from setbacks and using them as opportunities for growth and improvement.', 'in_response_to': 'How do you handle challenges?', 'persona': 'recruiter', 'conversation': 'test', 'tags': ['challenges', 'problem solving', 'growth']}, {'text': 'I have successfully led a project that involved launching a new feature for our SaaS product, resulting in a 25% increase in user engagement. This required close collaboration with cross-functional teams and effective project management.', 'in_response_to': 'Can you provide an example of a successful project you led?', 'persona': 'recruiter', 'conversation': 'test', 'tags': ['project management', 'success', 'user engagement']}, {'text': 'I am passionate about using my skills to support nonprofit organizations in achieving their missions. I believe that my background in product management can help drive efficiency and innovation in the sector.', 'in_response_to': 'Why are you interested in nonprofit operations?', 'persona': 'recruiter', 'conversation': 'test', 'tags': ['nonprofit', 'operations', 'passion']}, {'text': 'I have experience in the financial services / asset management industry, managing product in the B2B SaaS sector (focusing on enterprise software solutions) and in improving processes in nonprofit operations with impactful technology solutions.', 'in_response_to': 'What industries have you worked in?', 'persona': 'recruiter', 'conversation': 'test', 'tags': ['nonprofit', 'operations', 'industry', 'financial services', 'asset management']}, {'text': 'My strength lies in my strategic vision, data-driven decision-making, and ability to align product roadmaps with business goals. I excel at stakeholder management, agile methodologies, and fostering collaboration across engineering, design, and marketing teams. Also, having done more than just product management gives me the context to better understand user needs and make better product decisions - like knowing that users...', 'in_response_to': 'What makes you a strong candidate for a senior product manager role?', 'persona': 'recruiter', 'conversation': 'test', 'tags': ['product management', 'senior product manager', 'candidate strength']}, {'text': 'My key strengths include strategic thinking, effective communication, project management, and a strong analytical mindset. I am adaptable, results-oriented, and passionate about driving positive change.', 'in_response_to': 'What are your key strengths?', 'persona': 'recruiter', 'conversation': 'test', 'tags': ['candidate strength', 'product management', 'analytical mindset']}, {'text': 'I have a strong background in product management, with experience in both B2B SaaS and nonprofit operations. I have successfully led cross-functional teams to deliver innovative solutions that meet user needs and drive business growth.', 'in_response_to': 'Can you summarize your background?', 'persona': 'recruiter', 'conversation': 'test', 'tags': ['product management', 'B2B SaaS', 'nonprofit operations']}, {'text': 'I approach product strategy by combining market analysis, customer feedback, and business objectives to create a clear and actionable roadmap. I prioritize features that deliver maximum value and ensure alignment with the company’s long-term vision.', 'in_response_to': 'How do you approach product strategy?', 'persona': 'recruiter', 'conversation': 'test', 'tags': ['nonprofit', 'operations', 'industry', 'financial services', 'asset management']}, {'text': 'In the nonprofit sector, I have streamlined operations, implemented new technologies, and improved program outcomes. My efforts have led to increased efficiency, better resource allocation, and measurable impact for the organizations I’ve served.', 'in_response_to': 'How have you contributed to nonprofit organizations?', 'persona': 'recruiter', 'conversation': 'test', 'tags': ['nonprofit', 'operations', 'impact']}, {'text': 'I prioritize transparent communication and active listening to understand stakeholder needs. I build trust by delivering on commitments and ensuring all voices are heard throughout the product development process.', 'in_response_to': 'What is your approach to stakeholder management?', 'persona': 'recruiter', 'conversation': 'test', 'tags': ['stakeholder management', 'communication', 'trust']}, {'text': 'Love dogs, baking and traveling! I enjoy exploring new cultures and cuisines, and I often find inspiration for my work in the diverse experiences I encounter during my travels.', 'in_response_to': ['What do you like to do for fun?', 'What do you like to do outside of work?'], 'persona': 'recruiter', 'conversation': 'test', 'tags': ['hobbies', 'travel', 'baking']}]}\n"
          ]
        }
      ]
    },
    {
      "cell_type": "code",
      "source": [
        "# Import json trainer package\n",
        "from chatterbot.trainers import JsonFileTrainer\n",
        "\n",
        "# Create a new json trainer\n",
        "trainer_json = JsonFileTrainer(\n",
        "    chatbot,\n",
        "    field_map={\n",
        "       'persona': 'persona',\n",
        "       'text': 'text',\n",
        "       'conversation': 'conversation',\n",
        "       'in_response_to': 'in_response_to',\n",
        "    }\n",
        ")\n",
        "#df = pd.json_normalize(data, record_path=\"conversations\")\n",
        "#df.head()"
      ],
      "metadata": {
        "id": "VSKwu476UItz"
      },
      "execution_count": 41,
      "outputs": []
    },
    {
      "cell_type": "code",
      "source": [
        "# Train chatbot on custom corpus json in Google Drive\n",
        "trainer_json.train(\"/content/drive/MyDrive/Colab Notebooks/powered_by_tnt_chatbot_training_data.json\")"
      ],
      "metadata": {
        "colab": {
          "base_uri": "https://localhost:8080/",
          "height": 373
        },
        "id": "27ZKo8oXWeDQ",
        "outputId": "b74270e3-6493-43d4-be35-1ae6aef15161"
      },
      "execution_count": 43,
      "outputs": [
        {
          "output_type": "stream",
          "name": "stderr",
          "text": [
            "Training: 0it [00:00, ?it/s]\n"
          ]
        },
        {
          "output_type": "error",
          "ename": "ValueError",
          "evalue": "[E1041] Expected a string, Doc, or bytes as input, but got: <class 'list'>",
          "traceback": [
            "\u001b[0;31m---------------------------------------------------------------------------\u001b[0m",
            "\u001b[0;31mValueError\u001b[0m                                Traceback (most recent call last)",
            "\u001b[0;32m<ipython-input-43-56fcaf4e6d50>\u001b[0m in \u001b[0;36m<cell line: 0>\u001b[0;34m()\u001b[0m\n\u001b[1;32m      1\u001b[0m \u001b[0;31m# Train chatbot on custom corpus json in Google Drive\u001b[0m\u001b[0;34m\u001b[0m\u001b[0;34m\u001b[0m\u001b[0m\n\u001b[0;32m----> 2\u001b[0;31m \u001b[0mtrainer_json\u001b[0m\u001b[0;34m.\u001b[0m\u001b[0mtrain\u001b[0m\u001b[0;34m(\u001b[0m\u001b[0;34m\"/content/drive/MyDrive/Colab Notebooks/powered_by_tnt_chatbot_training_data.json\"\u001b[0m\u001b[0;34m)\u001b[0m\u001b[0;34m\u001b[0m\u001b[0;34m\u001b[0m\u001b[0m\n\u001b[0m",
            "\u001b[0;32m/usr/local/lib/python3.11/dist-packages/chatterbot/trainers.py\u001b[0m in \u001b[0;36mtrain\u001b[0;34m(self, data_path, limit)\u001b[0m\n\u001b[1;32m    314\u001b[0m \u001b[0;34m\u001b[0m\u001b[0m\n\u001b[1;32m    315\u001b[0m                 \u001b[0;31m# (Process the response values the same way as the text values)\u001b[0m\u001b[0;34m\u001b[0m\u001b[0;34m\u001b[0m\u001b[0m\n\u001b[0;32m--> 316\u001b[0;31m                 \u001b[0;32mfor\u001b[0m \u001b[0mdocument\u001b[0m \u001b[0;32min\u001b[0m \u001b[0mresponse_documents\u001b[0m\u001b[0;34m:\u001b[0m\u001b[0;34m\u001b[0m\u001b[0;34m\u001b[0m\u001b[0m\n\u001b[0m\u001b[1;32m    317\u001b[0m                     \u001b[0mresponse_to_search_index_mapping\u001b[0m\u001b[0;34m[\u001b[0m\u001b[0mdocument\u001b[0m\u001b[0;34m.\u001b[0m\u001b[0mtext\u001b[0m\u001b[0;34m]\u001b[0m \u001b[0;34m=\u001b[0m \u001b[0mdocument\u001b[0m\u001b[0;34m.\u001b[0m\u001b[0m_\u001b[0m\u001b[0;34m.\u001b[0m\u001b[0msearch_index\u001b[0m\u001b[0;34m\u001b[0m\u001b[0;34m\u001b[0m\u001b[0m\n\u001b[1;32m    318\u001b[0m \u001b[0;34m\u001b[0m\u001b[0m\n",
            "\u001b[0;32m/usr/local/lib/python3.11/dist-packages/spacy/language.py\u001b[0m in \u001b[0;36mpipe\u001b[0;34m(self, texts, as_tuples, batch_size, disable, component_cfg, n_process)\u001b[0m\n\u001b[1;32m   1619\u001b[0m             \u001b[0;32mfor\u001b[0m \u001b[0mpipe\u001b[0m \u001b[0;32min\u001b[0m \u001b[0mpipes\u001b[0m\u001b[0;34m:\u001b[0m\u001b[0;34m\u001b[0m\u001b[0;34m\u001b[0m\u001b[0m\n\u001b[1;32m   1620\u001b[0m                 \u001b[0mdocs\u001b[0m \u001b[0;34m=\u001b[0m \u001b[0mpipe\u001b[0m\u001b[0;34m(\u001b[0m\u001b[0mdocs\u001b[0m\u001b[0;34m)\u001b[0m\u001b[0;34m\u001b[0m\u001b[0;34m\u001b[0m\u001b[0m\n\u001b[0;32m-> 1621\u001b[0;31m         \u001b[0;32mfor\u001b[0m \u001b[0mdoc\u001b[0m \u001b[0;32min\u001b[0m \u001b[0mdocs\u001b[0m\u001b[0;34m:\u001b[0m\u001b[0;34m\u001b[0m\u001b[0;34m\u001b[0m\u001b[0m\n\u001b[0m\u001b[1;32m   1622\u001b[0m             \u001b[0;32myield\u001b[0m \u001b[0mdoc\u001b[0m\u001b[0;34m\u001b[0m\u001b[0;34m\u001b[0m\u001b[0m\n\u001b[1;32m   1623\u001b[0m \u001b[0;34m\u001b[0m\u001b[0m\n",
            "\u001b[0;32m/usr/local/lib/python3.11/dist-packages/spacy/util.py\u001b[0m in \u001b[0;36m_pipe\u001b[0;34m(docs, proc, name, default_error_handler, kwargs)\u001b[0m\n\u001b[1;32m   1711\u001b[0m             \u001b[0;32mif\u001b[0m \u001b[0marg\u001b[0m \u001b[0;32min\u001b[0m \u001b[0mkwargs\u001b[0m\u001b[0;34m:\u001b[0m\u001b[0;34m\u001b[0m\u001b[0;34m\u001b[0m\u001b[0m\n\u001b[1;32m   1712\u001b[0m                 \u001b[0mkwargs\u001b[0m\u001b[0;34m.\u001b[0m\u001b[0mpop\u001b[0m\u001b[0;34m(\u001b[0m\u001b[0marg\u001b[0m\u001b[0;34m)\u001b[0m\u001b[0;34m\u001b[0m\u001b[0;34m\u001b[0m\u001b[0m\n\u001b[0;32m-> 1713\u001b[0;31m         \u001b[0;32mfor\u001b[0m \u001b[0mdoc\u001b[0m \u001b[0;32min\u001b[0m \u001b[0mdocs\u001b[0m\u001b[0;34m:\u001b[0m\u001b[0;34m\u001b[0m\u001b[0;34m\u001b[0m\u001b[0m\n\u001b[0m\u001b[1;32m   1714\u001b[0m             \u001b[0;32mtry\u001b[0m\u001b[0;34m:\u001b[0m\u001b[0;34m\u001b[0m\u001b[0;34m\u001b[0m\u001b[0m\n\u001b[1;32m   1715\u001b[0m                 \u001b[0mdoc\u001b[0m \u001b[0;34m=\u001b[0m \u001b[0mproc\u001b[0m\u001b[0;34m(\u001b[0m\u001b[0mdoc\u001b[0m\u001b[0;34m,\u001b[0m \u001b[0;34m**\u001b[0m\u001b[0mkwargs\u001b[0m\u001b[0;34m)\u001b[0m  \u001b[0;31m# type: ignore[call-arg]\u001b[0m\u001b[0;34m\u001b[0m\u001b[0;34m\u001b[0m\u001b[0m\n",
            "\u001b[0;32m/usr/local/lib/python3.11/dist-packages/spacy/util.py\u001b[0m in \u001b[0;36m_pipe\u001b[0;34m(docs, proc, name, default_error_handler, kwargs)\u001b[0m\n\u001b[1;32m   1701\u001b[0m ) -> Iterator[\"Doc\"]:\n\u001b[1;32m   1702\u001b[0m     \u001b[0;32mif\u001b[0m \u001b[0mhasattr\u001b[0m\u001b[0;34m(\u001b[0m\u001b[0mproc\u001b[0m\u001b[0;34m,\u001b[0m \u001b[0;34m\"pipe\"\u001b[0m\u001b[0;34m)\u001b[0m\u001b[0;34m:\u001b[0m\u001b[0;34m\u001b[0m\u001b[0;34m\u001b[0m\u001b[0m\n\u001b[0;32m-> 1703\u001b[0;31m         \u001b[0;32myield\u001b[0m \u001b[0;32mfrom\u001b[0m \u001b[0mproc\u001b[0m\u001b[0;34m.\u001b[0m\u001b[0mpipe\u001b[0m\u001b[0;34m(\u001b[0m\u001b[0mdocs\u001b[0m\u001b[0;34m,\u001b[0m \u001b[0;34m**\u001b[0m\u001b[0mkwargs\u001b[0m\u001b[0;34m)\u001b[0m\u001b[0;34m\u001b[0m\u001b[0;34m\u001b[0m\u001b[0m\n\u001b[0m\u001b[1;32m   1704\u001b[0m     \u001b[0;32melse\u001b[0m\u001b[0;34m:\u001b[0m\u001b[0;34m\u001b[0m\u001b[0;34m\u001b[0m\u001b[0m\n\u001b[1;32m   1705\u001b[0m         \u001b[0;31m# We added some args for pipe that __call__ doesn't expect.\u001b[0m\u001b[0;34m\u001b[0m\u001b[0;34m\u001b[0m\u001b[0m\n",
            "\u001b[0;32m/usr/local/lib/python3.11/dist-packages/spacy/pipeline/pipe.pyx\u001b[0m in \u001b[0;36mpipe\u001b[0;34m()\u001b[0m\n",
            "\u001b[0;32m/usr/local/lib/python3.11/dist-packages/spacy/util.py\u001b[0m in \u001b[0;36m_pipe\u001b[0;34m(docs, proc, name, default_error_handler, kwargs)\u001b[0m\n\u001b[1;32m   1701\u001b[0m ) -> Iterator[\"Doc\"]:\n\u001b[1;32m   1702\u001b[0m     \u001b[0;32mif\u001b[0m \u001b[0mhasattr\u001b[0m\u001b[0;34m(\u001b[0m\u001b[0mproc\u001b[0m\u001b[0;34m,\u001b[0m \u001b[0;34m\"pipe\"\u001b[0m\u001b[0;34m)\u001b[0m\u001b[0;34m:\u001b[0m\u001b[0;34m\u001b[0m\u001b[0;34m\u001b[0m\u001b[0m\n\u001b[0;32m-> 1703\u001b[0;31m         \u001b[0;32myield\u001b[0m \u001b[0;32mfrom\u001b[0m \u001b[0mproc\u001b[0m\u001b[0;34m.\u001b[0m\u001b[0mpipe\u001b[0m\u001b[0;34m(\u001b[0m\u001b[0mdocs\u001b[0m\u001b[0;34m,\u001b[0m \u001b[0;34m**\u001b[0m\u001b[0mkwargs\u001b[0m\u001b[0;34m)\u001b[0m\u001b[0;34m\u001b[0m\u001b[0;34m\u001b[0m\u001b[0m\n\u001b[0m\u001b[1;32m   1704\u001b[0m     \u001b[0;32melse\u001b[0m\u001b[0;34m:\u001b[0m\u001b[0;34m\u001b[0m\u001b[0;34m\u001b[0m\u001b[0m\n\u001b[1;32m   1705\u001b[0m         \u001b[0;31m# We added some args for pipe that __call__ doesn't expect.\u001b[0m\u001b[0;34m\u001b[0m\u001b[0;34m\u001b[0m\u001b[0m\n",
            "\u001b[0;32m/usr/local/lib/python3.11/dist-packages/spacy/pipeline/pipe.pyx\u001b[0m in \u001b[0;36mpipe\u001b[0;34m()\u001b[0m\n",
            "\u001b[0;32m/usr/local/lib/python3.11/dist-packages/spacy/util.py\u001b[0m in \u001b[0;36m_pipe\u001b[0;34m(docs, proc, name, default_error_handler, kwargs)\u001b[0m\n\u001b[1;32m   1701\u001b[0m ) -> Iterator[\"Doc\"]:\n\u001b[1;32m   1702\u001b[0m     \u001b[0;32mif\u001b[0m \u001b[0mhasattr\u001b[0m\u001b[0;34m(\u001b[0m\u001b[0mproc\u001b[0m\u001b[0;34m,\u001b[0m \u001b[0;34m\"pipe\"\u001b[0m\u001b[0;34m)\u001b[0m\u001b[0;34m:\u001b[0m\u001b[0;34m\u001b[0m\u001b[0;34m\u001b[0m\u001b[0m\n\u001b[0;32m-> 1703\u001b[0;31m         \u001b[0;32myield\u001b[0m \u001b[0;32mfrom\u001b[0m \u001b[0mproc\u001b[0m\u001b[0;34m.\u001b[0m\u001b[0mpipe\u001b[0m\u001b[0;34m(\u001b[0m\u001b[0mdocs\u001b[0m\u001b[0;34m,\u001b[0m \u001b[0;34m**\u001b[0m\u001b[0mkwargs\u001b[0m\u001b[0;34m)\u001b[0m\u001b[0;34m\u001b[0m\u001b[0;34m\u001b[0m\u001b[0m\n\u001b[0m\u001b[1;32m   1704\u001b[0m     \u001b[0;32melse\u001b[0m\u001b[0;34m:\u001b[0m\u001b[0;34m\u001b[0m\u001b[0;34m\u001b[0m\u001b[0m\n\u001b[1;32m   1705\u001b[0m         \u001b[0;31m# We added some args for pipe that __call__ doesn't expect.\u001b[0m\u001b[0;34m\u001b[0m\u001b[0;34m\u001b[0m\u001b[0m\n",
            "\u001b[0;32m/usr/local/lib/python3.11/dist-packages/spacy/pipeline/transition_parser.pyx\u001b[0m in \u001b[0;36mpipe\u001b[0;34m()\u001b[0m\n",
            "\u001b[0;32m/usr/local/lib/python3.11/dist-packages/spacy/util.py\u001b[0m in \u001b[0;36mminibatch\u001b[0;34m(items, size)\u001b[0m\n\u001b[1;32m   1648\u001b[0m     \u001b[0;32mwhile\u001b[0m \u001b[0;32mTrue\u001b[0m\u001b[0;34m:\u001b[0m\u001b[0;34m\u001b[0m\u001b[0;34m\u001b[0m\u001b[0m\n\u001b[1;32m   1649\u001b[0m         \u001b[0mbatch_size\u001b[0m \u001b[0;34m=\u001b[0m \u001b[0mnext\u001b[0m\u001b[0;34m(\u001b[0m\u001b[0msize_\u001b[0m\u001b[0;34m)\u001b[0m\u001b[0;34m\u001b[0m\u001b[0;34m\u001b[0m\u001b[0m\n\u001b[0;32m-> 1650\u001b[0;31m         \u001b[0mbatch\u001b[0m \u001b[0;34m=\u001b[0m \u001b[0mlist\u001b[0m\u001b[0;34m(\u001b[0m\u001b[0mitertools\u001b[0m\u001b[0;34m.\u001b[0m\u001b[0mislice\u001b[0m\u001b[0;34m(\u001b[0m\u001b[0mitems\u001b[0m\u001b[0;34m,\u001b[0m \u001b[0mint\u001b[0m\u001b[0;34m(\u001b[0m\u001b[0mbatch_size\u001b[0m\u001b[0;34m)\u001b[0m\u001b[0;34m)\u001b[0m\u001b[0;34m)\u001b[0m\u001b[0;34m\u001b[0m\u001b[0;34m\u001b[0m\u001b[0m\n\u001b[0m\u001b[1;32m   1651\u001b[0m         \u001b[0;32mif\u001b[0m \u001b[0mlen\u001b[0m\u001b[0;34m(\u001b[0m\u001b[0mbatch\u001b[0m\u001b[0;34m)\u001b[0m \u001b[0;34m==\u001b[0m \u001b[0;36m0\u001b[0m\u001b[0;34m:\u001b[0m\u001b[0;34m\u001b[0m\u001b[0;34m\u001b[0m\u001b[0m\n\u001b[1;32m   1652\u001b[0m             \u001b[0;32mbreak\u001b[0m\u001b[0;34m\u001b[0m\u001b[0;34m\u001b[0m\u001b[0m\n",
            "\u001b[0;32m/usr/local/lib/python3.11/dist-packages/spacy/util.py\u001b[0m in \u001b[0;36m_pipe\u001b[0;34m(docs, proc, name, default_error_handler, kwargs)\u001b[0m\n\u001b[1;32m   1701\u001b[0m ) -> Iterator[\"Doc\"]:\n\u001b[1;32m   1702\u001b[0m     \u001b[0;32mif\u001b[0m \u001b[0mhasattr\u001b[0m\u001b[0;34m(\u001b[0m\u001b[0mproc\u001b[0m\u001b[0;34m,\u001b[0m \u001b[0;34m\"pipe\"\u001b[0m\u001b[0;34m)\u001b[0m\u001b[0;34m:\u001b[0m\u001b[0;34m\u001b[0m\u001b[0;34m\u001b[0m\u001b[0m\n\u001b[0;32m-> 1703\u001b[0;31m         \u001b[0;32myield\u001b[0m \u001b[0;32mfrom\u001b[0m \u001b[0mproc\u001b[0m\u001b[0;34m.\u001b[0m\u001b[0mpipe\u001b[0m\u001b[0;34m(\u001b[0m\u001b[0mdocs\u001b[0m\u001b[0;34m,\u001b[0m \u001b[0;34m**\u001b[0m\u001b[0mkwargs\u001b[0m\u001b[0;34m)\u001b[0m\u001b[0;34m\u001b[0m\u001b[0;34m\u001b[0m\u001b[0m\n\u001b[0m\u001b[1;32m   1704\u001b[0m     \u001b[0;32melse\u001b[0m\u001b[0;34m:\u001b[0m\u001b[0;34m\u001b[0m\u001b[0;34m\u001b[0m\u001b[0m\n\u001b[1;32m   1705\u001b[0m         \u001b[0;31m# We added some args for pipe that __call__ doesn't expect.\u001b[0m\u001b[0;34m\u001b[0m\u001b[0;34m\u001b[0m\u001b[0m\n",
            "\u001b[0;32m/usr/local/lib/python3.11/dist-packages/spacy/pipeline/trainable_pipe.pyx\u001b[0m in \u001b[0;36mpipe\u001b[0;34m()\u001b[0m\n",
            "\u001b[0;32m/usr/local/lib/python3.11/dist-packages/spacy/util.py\u001b[0m in \u001b[0;36mminibatch\u001b[0;34m(items, size)\u001b[0m\n\u001b[1;32m   1648\u001b[0m     \u001b[0;32mwhile\u001b[0m \u001b[0;32mTrue\u001b[0m\u001b[0;34m:\u001b[0m\u001b[0;34m\u001b[0m\u001b[0;34m\u001b[0m\u001b[0m\n\u001b[1;32m   1649\u001b[0m         \u001b[0mbatch_size\u001b[0m \u001b[0;34m=\u001b[0m \u001b[0mnext\u001b[0m\u001b[0;34m(\u001b[0m\u001b[0msize_\u001b[0m\u001b[0;34m)\u001b[0m\u001b[0;34m\u001b[0m\u001b[0;34m\u001b[0m\u001b[0m\n\u001b[0;32m-> 1650\u001b[0;31m         \u001b[0mbatch\u001b[0m \u001b[0;34m=\u001b[0m \u001b[0mlist\u001b[0m\u001b[0;34m(\u001b[0m\u001b[0mitertools\u001b[0m\u001b[0;34m.\u001b[0m\u001b[0mislice\u001b[0m\u001b[0;34m(\u001b[0m\u001b[0mitems\u001b[0m\u001b[0;34m,\u001b[0m \u001b[0mint\u001b[0m\u001b[0;34m(\u001b[0m\u001b[0mbatch_size\u001b[0m\u001b[0;34m)\u001b[0m\u001b[0;34m)\u001b[0m\u001b[0;34m)\u001b[0m\u001b[0;34m\u001b[0m\u001b[0;34m\u001b[0m\u001b[0m\n\u001b[0m\u001b[1;32m   1651\u001b[0m         \u001b[0;32mif\u001b[0m \u001b[0mlen\u001b[0m\u001b[0;34m(\u001b[0m\u001b[0mbatch\u001b[0m\u001b[0;34m)\u001b[0m \u001b[0;34m==\u001b[0m \u001b[0;36m0\u001b[0m\u001b[0;34m:\u001b[0m\u001b[0;34m\u001b[0m\u001b[0;34m\u001b[0m\u001b[0m\n\u001b[1;32m   1652\u001b[0m             \u001b[0;32mbreak\u001b[0m\u001b[0;34m\u001b[0m\u001b[0;34m\u001b[0m\u001b[0m\n",
            "\u001b[0;32m/usr/local/lib/python3.11/dist-packages/spacy/util.py\u001b[0m in \u001b[0;36m_pipe\u001b[0;34m(docs, proc, name, default_error_handler, kwargs)\u001b[0m\n\u001b[1;32m   1701\u001b[0m ) -> Iterator[\"Doc\"]:\n\u001b[1;32m   1702\u001b[0m     \u001b[0;32mif\u001b[0m \u001b[0mhasattr\u001b[0m\u001b[0;34m(\u001b[0m\u001b[0mproc\u001b[0m\u001b[0;34m,\u001b[0m \u001b[0;34m\"pipe\"\u001b[0m\u001b[0;34m)\u001b[0m\u001b[0;34m:\u001b[0m\u001b[0;34m\u001b[0m\u001b[0;34m\u001b[0m\u001b[0m\n\u001b[0;32m-> 1703\u001b[0;31m         \u001b[0;32myield\u001b[0m \u001b[0;32mfrom\u001b[0m \u001b[0mproc\u001b[0m\u001b[0;34m.\u001b[0m\u001b[0mpipe\u001b[0m\u001b[0;34m(\u001b[0m\u001b[0mdocs\u001b[0m\u001b[0;34m,\u001b[0m \u001b[0;34m**\u001b[0m\u001b[0mkwargs\u001b[0m\u001b[0;34m)\u001b[0m\u001b[0;34m\u001b[0m\u001b[0;34m\u001b[0m\u001b[0m\n\u001b[0m\u001b[1;32m   1704\u001b[0m     \u001b[0;32melse\u001b[0m\u001b[0;34m:\u001b[0m\u001b[0;34m\u001b[0m\u001b[0;34m\u001b[0m\u001b[0m\n\u001b[1;32m   1705\u001b[0m         \u001b[0;31m# We added some args for pipe that __call__ doesn't expect.\u001b[0m\u001b[0;34m\u001b[0m\u001b[0;34m\u001b[0m\u001b[0m\n",
            "\u001b[0;32m/usr/local/lib/python3.11/dist-packages/spacy/pipeline/trainable_pipe.pyx\u001b[0m in \u001b[0;36mpipe\u001b[0;34m()\u001b[0m\n",
            "\u001b[0;32m/usr/local/lib/python3.11/dist-packages/spacy/util.py\u001b[0m in \u001b[0;36mminibatch\u001b[0;34m(items, size)\u001b[0m\n\u001b[1;32m   1648\u001b[0m     \u001b[0;32mwhile\u001b[0m \u001b[0;32mTrue\u001b[0m\u001b[0;34m:\u001b[0m\u001b[0;34m\u001b[0m\u001b[0;34m\u001b[0m\u001b[0m\n\u001b[1;32m   1649\u001b[0m         \u001b[0mbatch_size\u001b[0m \u001b[0;34m=\u001b[0m \u001b[0mnext\u001b[0m\u001b[0;34m(\u001b[0m\u001b[0msize_\u001b[0m\u001b[0;34m)\u001b[0m\u001b[0;34m\u001b[0m\u001b[0;34m\u001b[0m\u001b[0m\n\u001b[0;32m-> 1650\u001b[0;31m         \u001b[0mbatch\u001b[0m \u001b[0;34m=\u001b[0m \u001b[0mlist\u001b[0m\u001b[0;34m(\u001b[0m\u001b[0mitertools\u001b[0m\u001b[0;34m.\u001b[0m\u001b[0mislice\u001b[0m\u001b[0;34m(\u001b[0m\u001b[0mitems\u001b[0m\u001b[0;34m,\u001b[0m \u001b[0mint\u001b[0m\u001b[0;34m(\u001b[0m\u001b[0mbatch_size\u001b[0m\u001b[0;34m)\u001b[0m\u001b[0;34m)\u001b[0m\u001b[0;34m)\u001b[0m\u001b[0;34m\u001b[0m\u001b[0;34m\u001b[0m\u001b[0m\n\u001b[0m\u001b[1;32m   1651\u001b[0m         \u001b[0;32mif\u001b[0m \u001b[0mlen\u001b[0m\u001b[0;34m(\u001b[0m\u001b[0mbatch\u001b[0m\u001b[0;34m)\u001b[0m \u001b[0;34m==\u001b[0m \u001b[0;36m0\u001b[0m\u001b[0;34m:\u001b[0m\u001b[0;34m\u001b[0m\u001b[0;34m\u001b[0m\u001b[0m\n\u001b[1;32m   1652\u001b[0m             \u001b[0;32mbreak\u001b[0m\u001b[0;34m\u001b[0m\u001b[0;34m\u001b[0m\u001b[0m\n",
            "\u001b[0;32m/usr/local/lib/python3.11/dist-packages/spacy/language.py\u001b[0m in \u001b[0;36m<genexpr>\u001b[0;34m(.0)\u001b[0m\n\u001b[1;32m   1616\u001b[0m         \u001b[0;32melse\u001b[0m\u001b[0;34m:\u001b[0m\u001b[0;34m\u001b[0m\u001b[0;34m\u001b[0m\u001b[0m\n\u001b[1;32m   1617\u001b[0m             \u001b[0;31m# if n_process == 1, no processes are forked.\u001b[0m\u001b[0;34m\u001b[0m\u001b[0;34m\u001b[0m\u001b[0m\n\u001b[0;32m-> 1618\u001b[0;31m             \u001b[0mdocs\u001b[0m \u001b[0;34m=\u001b[0m \u001b[0;34m(\u001b[0m\u001b[0mself\u001b[0m\u001b[0;34m.\u001b[0m\u001b[0m_ensure_doc\u001b[0m\u001b[0;34m(\u001b[0m\u001b[0mtext\u001b[0m\u001b[0;34m)\u001b[0m \u001b[0;32mfor\u001b[0m \u001b[0mtext\u001b[0m \u001b[0;32min\u001b[0m \u001b[0mtexts\u001b[0m\u001b[0;34m)\u001b[0m\u001b[0;34m\u001b[0m\u001b[0;34m\u001b[0m\u001b[0m\n\u001b[0m\u001b[1;32m   1619\u001b[0m             \u001b[0;32mfor\u001b[0m \u001b[0mpipe\u001b[0m \u001b[0;32min\u001b[0m \u001b[0mpipes\u001b[0m\u001b[0;34m:\u001b[0m\u001b[0;34m\u001b[0m\u001b[0;34m\u001b[0m\u001b[0m\n\u001b[1;32m   1620\u001b[0m                 \u001b[0mdocs\u001b[0m \u001b[0;34m=\u001b[0m \u001b[0mpipe\u001b[0m\u001b[0;34m(\u001b[0m\u001b[0mdocs\u001b[0m\u001b[0;34m)\u001b[0m\u001b[0;34m\u001b[0m\u001b[0;34m\u001b[0m\u001b[0m\n",
            "\u001b[0;32m/usr/local/lib/python3.11/dist-packages/spacy/language.py\u001b[0m in \u001b[0;36m_ensure_doc\u001b[0;34m(self, doc_like)\u001b[0m\n\u001b[1;32m   1132\u001b[0m         \u001b[0;32mif\u001b[0m \u001b[0misinstance\u001b[0m\u001b[0;34m(\u001b[0m\u001b[0mdoc_like\u001b[0m\u001b[0;34m,\u001b[0m \u001b[0mbytes\u001b[0m\u001b[0;34m)\u001b[0m\u001b[0;34m:\u001b[0m\u001b[0;34m\u001b[0m\u001b[0;34m\u001b[0m\u001b[0m\n\u001b[1;32m   1133\u001b[0m             \u001b[0;32mreturn\u001b[0m \u001b[0mDoc\u001b[0m\u001b[0;34m(\u001b[0m\u001b[0mself\u001b[0m\u001b[0;34m.\u001b[0m\u001b[0mvocab\u001b[0m\u001b[0;34m)\u001b[0m\u001b[0;34m.\u001b[0m\u001b[0mfrom_bytes\u001b[0m\u001b[0;34m(\u001b[0m\u001b[0mdoc_like\u001b[0m\u001b[0;34m)\u001b[0m\u001b[0;34m\u001b[0m\u001b[0;34m\u001b[0m\u001b[0m\n\u001b[0;32m-> 1134\u001b[0;31m         \u001b[0;32mraise\u001b[0m \u001b[0mValueError\u001b[0m\u001b[0;34m(\u001b[0m\u001b[0mErrors\u001b[0m\u001b[0;34m.\u001b[0m\u001b[0mE1041\u001b[0m\u001b[0;34m.\u001b[0m\u001b[0mformat\u001b[0m\u001b[0;34m(\u001b[0m\u001b[0mtype\u001b[0m\u001b[0;34m=\u001b[0m\u001b[0mtype\u001b[0m\u001b[0;34m(\u001b[0m\u001b[0mdoc_like\u001b[0m\u001b[0;34m)\u001b[0m\u001b[0;34m)\u001b[0m\u001b[0;34m)\u001b[0m\u001b[0;34m\u001b[0m\u001b[0;34m\u001b[0m\u001b[0m\n\u001b[0m\u001b[1;32m   1135\u001b[0m \u001b[0;34m\u001b[0m\u001b[0m\n\u001b[1;32m   1136\u001b[0m     def _ensure_doc_with_context(\n",
            "\u001b[0;31mValueError\u001b[0m: [E1041] Expected a string, Doc, or bytes as input, but got: <class 'list'>"
          ]
        }
      ]
    },
    {
      "cell_type": "code",
      "source": [],
      "metadata": {
        "id": "J0srtVA6Zhfa"
      },
      "execution_count": null,
      "outputs": []
    }
  ]
}