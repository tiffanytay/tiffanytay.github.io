{
  "nbformat": 4,
  "nbformat_minor": 0,
  "metadata": {
    "colab": {
      "provenance": [],
      "mount_file_id": "1cxncWo2zx-9_FDyev4uefVkzypFli9Sy",
      "authorship_tag": "ABX9TyMRIkNM71zLbpg0Ie7Our09",
      "include_colab_link": true
    },
    "kernelspec": {
      "name": "python3",
      "display_name": "Python 3"
    },
    "language_info": {
      "name": "python"
    }
  },
  "cells": [
    {
      "cell_type": "markdown",
      "metadata": {
        "id": "view-in-github",
        "colab_type": "text"
      },
      "source": [
        "<a href=\"https://colab.research.google.com/github/tiffanytay/tiffanytay.github.io/blob/main/Powered_by_TNT_Chatbot.ipynb\" target=\"_parent\"><img src=\"https://colab.research.google.com/assets/colab-badge.svg\" alt=\"Open In Colab\"/></a>"
      ]
    },
    {
      "cell_type": "code",
      "execution_count": null,
      "metadata": {
        "id": "Vptsg-LNekyD"
      },
      "outputs": [],
      "source": [
        "# Install python libraries if not already installed\n",
        "!pip install chatterbot\n",
        "!pip install chatterbot_corpus"
      ]
    },
    {
      "cell_type": "code",
      "source": [
        "# Print file paths of generic ENGLISH corpus files\n",
        "import os\n",
        "import chatterbot_corpus\n",
        "\n",
        "corpus_path = chatterbot_corpus.__path__[0]\n",
        "\n",
        "for root, _, files in os.walk(corpus_path):\n",
        "    for file in files:\n",
        "      file_path = os.path.join(root, file)\n",
        "      if \"english\" in file_path:\n",
        "          print(file_path)"
      ],
      "metadata": {
        "colab": {
          "base_uri": "https://localhost:8080/"
        },
        "id": "uT0cEZj8fX92",
        "outputId": "25e911c1-0e4f-4acc-ae51-a48c1f21ae12"
      },
      "execution_count": 67,
      "outputs": [
        {
          "output_type": "stream",
          "name": "stdout",
          "text": [
            "/usr/local/lib/python3.11/dist-packages/chatterbot_corpus/data/english/gossip.yml\n",
            "/usr/local/lib/python3.11/dist-packages/chatterbot_corpus/data/english/movies.yml\n",
            "/usr/local/lib/python3.11/dist-packages/chatterbot_corpus/data/english/money.yml\n",
            "/usr/local/lib/python3.11/dist-packages/chatterbot_corpus/data/english/science.yml\n",
            "/usr/local/lib/python3.11/dist-packages/chatterbot_corpus/data/english/psychology.yml\n",
            "/usr/local/lib/python3.11/dist-packages/chatterbot_corpus/data/english/humor.yml\n",
            "/usr/local/lib/python3.11/dist-packages/chatterbot_corpus/data/english/conversations.yml\n",
            "/usr/local/lib/python3.11/dist-packages/chatterbot_corpus/data/english/politics.yml\n",
            "/usr/local/lib/python3.11/dist-packages/chatterbot_corpus/data/english/food.yml\n",
            "/usr/local/lib/python3.11/dist-packages/chatterbot_corpus/data/english/emotion.yml\n",
            "/usr/local/lib/python3.11/dist-packages/chatterbot_corpus/data/english/trivia.yml\n",
            "/usr/local/lib/python3.11/dist-packages/chatterbot_corpus/data/english/health.yml\n",
            "/usr/local/lib/python3.11/dist-packages/chatterbot_corpus/data/english/ai.yml\n",
            "/usr/local/lib/python3.11/dist-packages/chatterbot_corpus/data/english/history.yml\n",
            "/usr/local/lib/python3.11/dist-packages/chatterbot_corpus/data/english/sports.yml\n",
            "/usr/local/lib/python3.11/dist-packages/chatterbot_corpus/data/english/computers.yml\n",
            "/usr/local/lib/python3.11/dist-packages/chatterbot_corpus/data/english/greetings.yml\n",
            "/usr/local/lib/python3.11/dist-packages/chatterbot_corpus/data/english/literature.yml\n",
            "/usr/local/lib/python3.11/dist-packages/chatterbot_corpus/data/english/botprofile.yml\n"
          ]
        }
      ]
    },
    {
      "cell_type": "code",
      "source": [
        "# Import packages\n",
        "from chatterbot import ChatBot\n",
        "from chatterbot.trainers import ChatterBotCorpusTrainer\n",
        "from chatterbot.trainers import ListTrainer\n",
        "\n",
        "# Create and name chatbot\n",
        "chatbot = ChatBot(\n",
        "    'Powered by TNT Chatbot',\n",
        "    storage_adapter='chatterbot.storage.SQLStorageAdapter',\n",
        "    database_uri='sqlite:///database.sqlite3',\n",
        "    logic_adapters=[\n",
        "        {\n",
        "            'import_path': 'chatterbot.logic.BestMatch',\n",
        "            'statement_comparison_function': 'chatterbot.comparisons.LevenshteinDistance',\n",
        "            'response_selection_method': 'chatterbot.response_selection.get_first_response',\n",
        "            'default_response': 'I am sorry, but I do not understand.',\n",
        "            'maximum_similarity_threshold': 0.90\n",
        "        },\n",
        "        'chatterbot.logic.MathematicalEvaluation',\n",
        "        'chatterbot.logic.TimeLogicAdapter'\n",
        "    ]\n",
        ")"
      ],
      "metadata": {
        "id": "OkMkN-e6epWu"
      },
      "execution_count": 90,
      "outputs": []
    },
    {
      "cell_type": "code",
      "source": [
        "# Test generic corpuses - 1\n",
        "response = chatbot.get_response('Hi')\n",
        "print(response)"
      ],
      "metadata": {
        "colab": {
          "base_uri": "https://localhost:8080/"
        },
        "id": "B41fKFcvke_c",
        "outputId": "17ddcf33-9fc2-454f-e7f6-799c84a28a7b"
      },
      "execution_count": 91,
      "outputs": [
        {
          "output_type": "stream",
          "name": "stdout",
          "text": [
            "I am sorry, but I do not understand.\n"
          ]
        }
      ]
    },
    {
      "cell_type": "code",
      "source": [
        "# Test generic corpuses - 2\n",
        "response = chatbot.get_response('Are you funny?')\n",
        "print(response)"
      ],
      "metadata": {
        "colab": {
          "base_uri": "https://localhost:8080/"
        },
        "id": "xZHmZVugiYGr",
        "outputId": "872c172a-9a0e-448f-9984-fe6dd883abb0"
      },
      "execution_count": 92,
      "outputs": [
        {
          "output_type": "stream",
          "name": "stdout",
          "text": [
            "I am sorry, but I do not understand.\n"
          ]
        }
      ]
    },
    {
      "cell_type": "code",
      "source": [
        "# # Get custom corpus json from Github\n",
        "# import urllib.request\n",
        "# import json\n",
        "# import pandas as pd\n",
        "\n",
        "# # Raw url for custom corpus json file in Github\n",
        "# url = 'https://raw.githubusercontent.com/tiffanytay/tiffanytay.github.io/refs/heads/main/projects/powered_by_tnt/custom_corpus_training_data.json'\n",
        "# response = urllib.request.urlopen(url)\n",
        "# # Save json data to 'data'\n",
        "# data = json.loads(response.read())\n",
        "# # Check 'data'\n",
        "# print(data)"
      ],
      "metadata": {
        "id": "X94q5093mfmE"
      },
      "execution_count": null,
      "outputs": []
    },
    {
      "cell_type": "code",
      "source": [
        "# # Import json trainer package\n",
        "# from chatterbot.trainers import JsonFileTrainer\n",
        "\n",
        "# # Create a new json trainer\n",
        "# trainer_json = JsonFileTrainer(\n",
        "#     chatbot,\n",
        "#     field_map={\n",
        "#        'persona': 'persona',\n",
        "#        'text': 'text',\n",
        "#        'conversation': 'conversation',\n",
        "#        'in_response_to': 'in_response_to',\n",
        "#     }\n",
        "# )\n",
        "\n",
        "# Put json data in a DataFrame\n",
        "#df = pd.json_normalize(data, record_path=\"conversations\")\n",
        "#df.head()"
      ],
      "metadata": {
        "id": "VSKwu476UItz"
      },
      "execution_count": 59,
      "outputs": []
    },
    {
      "cell_type": "code",
      "source": [
        "# Read and parse custom corpus json file from Google Drive\n",
        "import json\n",
        "\n",
        "# Load your JSON file\n",
        "with open(\"/content/drive/MyDrive/Colab Notebooks/powered_by_tnt_chatbot_training_data.json\", \"r\", encoding=\"utf-8\") as f:\n",
        "    data = json.load(f)\n",
        "\n",
        "conversations = data[\"conversations\"]"
      ],
      "metadata": {
        "id": "27ZKo8oXWeDQ"
      },
      "execution_count": 93,
      "outputs": []
    },
    {
      "cell_type": "code",
      "source": [
        "# Create a new LIST trainer for the chatbot\n",
        "trainer_list = ListTrainer(chatbot)  # chatbot is your ChatterBot instance\n",
        "\n",
        "# Create a new GENERIC CORPUS trainer for the chatbot\n",
        "trainer_corpus = ChatterBotCorpusTrainer(chatbot)\n",
        "\n",
        "# Train the chatbot based on the GENERIC CORPORA: English greetings and conversations\n",
        "trainer_corpus.train(\n",
        "    \"/usr/local/lib/python3.11/dist-packages/chatterbot_corpus/data/english/conversations.yml\",\n",
        "    \"/usr/local/lib/python3.11/dist-packages/chatterbot_corpus/data/english/greetings.yml\",\n",
        "    \"/usr/local/lib/python3.11/dist-packages/chatterbot_corpus/data/english/ai.yml\",\n",
        "    \"/usr/local/lib/python3.11/dist-packages/chatterbot_corpus/data/english/botprofile.yml\"\n",
        ")\n",
        "\n",
        "# Prepare the data for the LIST Trainer.\n",
        "# The ListTrainer expects a list of strings where each string is a turn in the conversation.\n",
        "# Based on the probable structure of your JSON data,\n",
        "# let's assume each dictionary in conversations_data represents a turn.\n",
        "# We need to flatten this structure into a simple list of strings.\n",
        "# We'll take the 'text' field as the statement for training.\n",
        "\n",
        "# This list will hold the sequence of statements for training.\n",
        "conversation_list_for_training = []\n",
        "\n",
        "# Iterate through the list of dictionaries and extract the text\n",
        "for item in conversations:\n",
        "    # Add the 'text' from each dictionary to the training list\n",
        "    if 'text' in item:\n",
        "        conversation_list_for_training.append(item['text'])\n",
        "    # If your data has a back-and-forth structure within each dictionary,\n",
        "    # you might need to extract multiple strings per dictionary.\n",
        "    # For example, if 'in_response_to' also needs to be part of the training sequence.\n",
        "    # However, the ListTrainer usually takes a linear sequence of statements.\n",
        "    # If 'in_response_to' is the previous turn, you might add it before the current 'text'.\n",
        "    # But the most common use case is a simple list of statements that follow each other.\n",
        "\n",
        "\n",
        "# Train the chatbot with the flattened list of statements\n",
        "# Ensure the list is not empty before training\n",
        "if conversation_list_for_training:\n",
        "    trainer_list.train(conversation_list_for_training)\n",
        "else:\n",
        "  print(\"No conversation data found to train with.\")"
      ],
      "metadata": {
        "colab": {
          "base_uri": "https://localhost:8080/"
        },
        "id": "J0srtVA6Zhfa",
        "outputId": "c636bb8a-e911-4f71-d509-c87f965ff136"
      },
      "execution_count": 100,
      "outputs": [
        {
          "output_type": "stream",
          "name": "stderr",
          "text": [
            "ChatterBot Corpus Trainer: 4it [00:01,  2.75it/s]\n",
            "List Trainer: 26it [00:00, 327.71it/s]\n"
          ]
        }
      ]
    },
    {
      "cell_type": "code",
      "source": [
        "# Test custom corpus - 1\n",
        "response = chatbot.get_response('Who are you?')\n",
        "print(response)"
      ],
      "metadata": {
        "colab": {
          "base_uri": "https://localhost:8080/"
        },
        "id": "mw49CT0qg88l",
        "outputId": "42b14382-da59-4673-8a2d-c364da0617cb"
      },
      "execution_count": 101,
      "outputs": [
        {
          "output_type": "stream",
          "name": "stdout",
          "text": [
            "Who? Who is but a form following the function of what\n"
          ]
        }
      ]
    },
    {
      "cell_type": "code",
      "source": [
        "# Test custom corpus - 2\n",
        "response = chatbot.get_response('Why should I hire you?')\n",
        "print(response)"
      ],
      "metadata": {
        "colab": {
          "base_uri": "https://localhost:8080/"
        },
        "id": "9p6OArjiiAEr",
        "outputId": "174a86af-a674-4e4c-c458-71a7c8aa8d08"
      },
      "execution_count": 102,
      "outputs": [
        {
          "output_type": "stream",
          "name": "stdout",
          "text": [
            "A lot of things, like all the other digits other than 0 and 1.\n"
          ]
        }
      ]
    },
    {
      "cell_type": "code",
      "source": [
        "# Test custom corpus - 3\n",
        "response = chatbot.get_response('Can you tell me about your experience in product management?')\n",
        "print(response)"
      ],
      "metadata": {
        "colab": {
          "base_uri": "https://localhost:8080/"
        },
        "id": "knEWFentiI0Z",
        "outputId": "55dce1de-b5a7-4f09-dba7-10f921fa83ba"
      },
      "execution_count": 103,
      "outputs": [
        {
          "output_type": "stream",
          "name": "stdout",
          "text": [
            "I ensure product-market fit by continuously gathering customer feedback and analyzing market trends. I prioritize features that align with user needs and business objectives to create a successful product.\n"
          ]
        }
      ]
    },
    {
      "cell_type": "code",
      "source": [
        "# Test custom corpus - 4\n",
        "response = chatbot.get_response('What do you like to do for fun?')\n",
        "print(response)"
      ],
      "metadata": {
        "colab": {
          "base_uri": "https://localhost:8080/"
        },
        "id": "PWobG_d1iRGm",
        "outputId": "35c0ce69-45dd-4876-e354-ef14bab15a1b"
      },
      "execution_count": 104,
      "outputs": [
        {
          "output_type": "stream",
          "name": "stdout",
          "text": [
            "What are you then?\n"
          ]
        }
      ]
    },
    {
      "cell_type": "code",
      "source": [
        "# Test custom corpus - 5\n",
        "response = chatbot.get_response('What time is it?')\n",
        "print(response)"
      ],
      "metadata": {
        "colab": {
          "base_uri": "https://localhost:8080/"
        },
        "id": "ywBmHOu2ig22",
        "outputId": "a8deb31c-c323-4601-c26a-43b2046657b3"
      },
      "execution_count": 105,
      "outputs": [
        {
          "output_type": "stream",
          "name": "stdout",
          "text": [
            "The current time is 08:49 PM\n"
          ]
        }
      ]
    },
    {
      "cell_type": "code",
      "source": [
        "# Run chatbot continuously until stopped\n",
        "while True:\n",
        "    try:\n",
        "        bot_input = chatbot.get_response(input())\n",
        "        print(bot_input)\n",
        "\n",
        "    except(KeyboardInterrupt, EOFError, SystemExit):\n",
        "        break"
      ],
      "metadata": {
        "colab": {
          "base_uri": "https://localhost:8080/"
        },
        "id": "lDeanl1kp44o",
        "outputId": "79d90057-68a2-4e04-c53f-1433c91bc24a"
      },
      "execution_count": 89,
      "outputs": [
        {
          "output_type": "stream",
          "name": "stdout",
          "text": [
            "Yo\n",
            "Right this way.\n",
            "Where are we going?\n",
            "I am doing well.\n",
            "1+2?\n",
            "I am sorry, but I do not understand.\n",
            "What time is it?\n",
            "The current time is 08:43 PM\n",
            "What do you do for fun?\n",
            "I am doing well.\n",
            "What are your hobbies?\n",
            "Playing soccer, painting, and writing are my hobbies. How about you?\n",
            "How do you approach product management?\n",
            "I prioritize stakeholder management by maintaining open lines of communication and actively seeking input from all relevant parties. I believe that collaboration is key to successful product development.\n"
          ]
        }
      ]
    },
    {
      "cell_type": "code",
      "source": [],
      "metadata": {
        "id": "0vEYMoW6r8nW"
      },
      "execution_count": null,
      "outputs": []
    }
  ]
}