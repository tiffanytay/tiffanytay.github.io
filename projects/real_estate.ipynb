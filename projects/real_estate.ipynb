{
 "cells": [
  {
   "cell_type": "markdown",
   "metadata": {},
   "source": [
    "This notebook explores the real estate dataset from Kaggle: https://www.kaggle.com/datasets/quantbruce/real-estate-price-prediction?resource=download"
   ]
  },
  {
   "cell_type": "code",
   "execution_count": 1,
   "metadata": {},
   "outputs": [],
   "source": [
    "import warnings\n",
    "from glob import glob\n",
    "\n",
    "import pandas as pd\n",
    "import seaborn as sns\n",
    "import plotly.express as px\n",
    "from category_encoders import OneHotEncoder\n",
    "from ipywidgets import Dropdown, FloatSlider, IntSlider, interact\n",
    "from sklearn.impute import SimpleImputer\n",
    "from sklearn.linear_model import LinearRegression, Ridge  # noqa F401\n",
    "from sklearn.metrics import mean_absolute_error\n",
    "from sklearn.pipeline import make_pipeline\n",
    "from sklearn.utils.validation import check_is_fitted"
   ]
  },
  {
   "cell_type": "markdown",
   "metadata": {},
   "source": [
    "Import"
   ]
  },
  {
   "cell_type": "code",
   "execution_count": 2,
   "metadata": {},
   "outputs": [],
   "source": [
    "# Read in CSV file downloaded from Kaggle\n",
    "df = pd.read_csv(r\"C:\\Users\\tiffa\\Documents\\Career\\Real estate\\Real estate_train.csv\")"
   ]
  },
  {
   "cell_type": "markdown",
   "metadata": {},
   "source": [
    "Wrangle"
   ]
  },
  {
   "cell_type": "code",
   "execution_count": 3,
   "metadata": {},
   "outputs": [],
   "source": [
    "# Drop the 'No' column\n",
    "df = df.drop(columns='No')"
   ]
  },
  {
   "cell_type": "markdown",
   "metadata": {},
   "source": [
    "Explore"
   ]
  },
  {
   "cell_type": "code",
   "execution_count": 4,
   "metadata": {},
   "outputs": [
    {
     "name": "stdout",
     "output_type": "stream",
     "text": [
      "<class 'pandas.core.frame.DataFrame'>\n",
      "RangeIndex: 314 entries, 0 to 313\n",
      "Data columns (total 7 columns):\n",
      " #   Column                                  Non-Null Count  Dtype  \n",
      "---  ------                                  --------------  -----  \n",
      " 0   X1 transaction date                     314 non-null    float64\n",
      " 1   X2 house age                            314 non-null    float64\n",
      " 2   X3 distance to the nearest MRT station  314 non-null    float64\n",
      " 3   X4 number of convenience stores         314 non-null    int64  \n",
      " 4   X5 latitude                             314 non-null    float64\n",
      " 5   X6 longitude                            314 non-null    float64\n",
      " 6   Y house price of unit area              314 non-null    float64\n",
      "dtypes: float64(6), int64(1)\n",
      "memory usage: 17.3 KB\n"
     ]
    },
    {
     "data": {
      "text/html": [
       "<div>\n",
       "<style scoped>\n",
       "    .dataframe tbody tr th:only-of-type {\n",
       "        vertical-align: middle;\n",
       "    }\n",
       "\n",
       "    .dataframe tbody tr th {\n",
       "        vertical-align: top;\n",
       "    }\n",
       "\n",
       "    .dataframe thead th {\n",
       "        text-align: right;\n",
       "    }\n",
       "</style>\n",
       "<table border=\"1\" class=\"dataframe\">\n",
       "  <thead>\n",
       "    <tr style=\"text-align: right;\">\n",
       "      <th></th>\n",
       "      <th>X1 transaction date</th>\n",
       "      <th>X2 house age</th>\n",
       "      <th>X3 distance to the nearest MRT station</th>\n",
       "      <th>X4 number of convenience stores</th>\n",
       "      <th>X5 latitude</th>\n",
       "      <th>X6 longitude</th>\n",
       "      <th>Y house price of unit area</th>\n",
       "    </tr>\n",
       "  </thead>\n",
       "  <tbody>\n",
       "    <tr>\n",
       "      <th>0</th>\n",
       "      <td>2012.917</td>\n",
       "      <td>32.0</td>\n",
       "      <td>84.87882</td>\n",
       "      <td>10</td>\n",
       "      <td>24.98298</td>\n",
       "      <td>121.54024</td>\n",
       "      <td>37.9</td>\n",
       "    </tr>\n",
       "    <tr>\n",
       "      <th>1</th>\n",
       "      <td>2012.917</td>\n",
       "      <td>19.5</td>\n",
       "      <td>306.59470</td>\n",
       "      <td>9</td>\n",
       "      <td>24.98034</td>\n",
       "      <td>121.53951</td>\n",
       "      <td>42.2</td>\n",
       "    </tr>\n",
       "    <tr>\n",
       "      <th>2</th>\n",
       "      <td>2013.583</td>\n",
       "      <td>13.3</td>\n",
       "      <td>561.98450</td>\n",
       "      <td>5</td>\n",
       "      <td>24.98746</td>\n",
       "      <td>121.54391</td>\n",
       "      <td>47.3</td>\n",
       "    </tr>\n",
       "    <tr>\n",
       "      <th>3</th>\n",
       "      <td>2013.500</td>\n",
       "      <td>13.3</td>\n",
       "      <td>561.98450</td>\n",
       "      <td>5</td>\n",
       "      <td>24.98746</td>\n",
       "      <td>121.54391</td>\n",
       "      <td>54.8</td>\n",
       "    </tr>\n",
       "    <tr>\n",
       "      <th>4</th>\n",
       "      <td>2012.833</td>\n",
       "      <td>5.0</td>\n",
       "      <td>390.56840</td>\n",
       "      <td>5</td>\n",
       "      <td>24.97937</td>\n",
       "      <td>121.54245</td>\n",
       "      <td>43.1</td>\n",
       "    </tr>\n",
       "  </tbody>\n",
       "</table>\n",
       "</div>"
      ],
      "text/plain": [
       "   X1 transaction date  X2 house age  X3 distance to the nearest MRT station  \\\n",
       "0             2012.917          32.0                                84.87882   \n",
       "1             2012.917          19.5                               306.59470   \n",
       "2             2013.583          13.3                               561.98450   \n",
       "3             2013.500          13.3                               561.98450   \n",
       "4             2012.833           5.0                               390.56840   \n",
       "\n",
       "   X4 number of convenience stores  X5 latitude  X6 longitude  \\\n",
       "0                               10     24.98298     121.54024   \n",
       "1                                9     24.98034     121.53951   \n",
       "2                                5     24.98746     121.54391   \n",
       "3                                5     24.98746     121.54391   \n",
       "4                                5     24.97937     121.54245   \n",
       "\n",
       "   Y house price of unit area  \n",
       "0                        37.9  \n",
       "1                        42.2  \n",
       "2                        47.3  \n",
       "3                        54.8  \n",
       "4                        43.1  "
      ]
     },
     "execution_count": 4,
     "metadata": {},
     "output_type": "execute_result"
    }
   ],
   "source": [
    "# Check columns\n",
    "df.info()\n",
    "df.head()"
   ]
  },
  {
   "cell_type": "code",
   "execution_count": 5,
   "metadata": {},
   "outputs": [
    {
     "data": {
      "application/vnd.plotly.v1+json": {
       "config": {
        "plotlyServerURL": "https://plot.ly"
       },
       "data": [
        {
         "customdata": {
          "bdata": "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",
          "dtype": "f8",
          "shape": "314, 1"
         },
         "hovertemplate": "X5 latitude=%{lat}<br>X6 longitude=%{lon}<br>Y house price of unit area=%{marker.color}<extra></extra>",
         "lat": {
          "bdata": "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",
          "dtype": "f8"
         },
         "legendgroup": "",
         "lon": {
          "bdata": "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",
          "dtype": "f8"
         },
         "marker": {
          "color": {
           "bdata": "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",
           "dtype": "f8"
          },
          "coloraxis": "coloraxis"
         },
         "mode": "markers",
         "name": "",
         "showlegend": false,
         "subplot": "map",
         "type": "scattermap"
        }
       ],
       "layout": {
        "coloraxis": {
         "colorbar": {
          "title": {
           "text": "Y house price of unit area"
          }
         },
         "colorscale": [
          [
           0,
           "#0d0887"
          ],
          [
           0.1111111111111111,
           "#46039f"
          ],
          [
           0.2222222222222222,
           "#7201a8"
          ],
          [
           0.3333333333333333,
           "#9c179e"
          ],
          [
           0.4444444444444444,
           "#bd3786"
          ],
          [
           0.5555555555555556,
           "#d8576b"
          ],
          [
           0.6666666666666666,
           "#ed7953"
          ],
          [
           0.7777777777777778,
           "#fb9f3a"
          ],
          [
           0.8888888888888888,
           "#fdca26"
          ],
          [
           1,
           "#f0f921"
          ]
         ]
        },
        "height": 600,
        "legend": {
         "tracegroupgap": 0
        },
        "map": {
         "center": {
          "lat": 24.968935063694268,
          "lon": 121.53358703821655
         },
         "domain": {
          "x": [
           0,
           1
          ],
          "y": [
           0,
           1
          ]
         },
         "zoom": 8
        },
        "mapbox": {
         "center": {
          "lat": 24.968935063694268,
          "lon": 121.53358703821655
         },
         "style": "open-street-map",
         "zoom": 8
        },
        "margin": {
         "t": 60
        },
        "template": {
         "data": {
          "bar": [
           {
            "error_x": {
             "color": "#2a3f5f"
            },
            "error_y": {
             "color": "#2a3f5f"
            },
            "marker": {
             "line": {
              "color": "#E5ECF6",
              "width": 0.5
             },
             "pattern": {
              "fillmode": "overlay",
              "size": 10,
              "solidity": 0.2
             }
            },
            "type": "bar"
           }
          ],
          "barpolar": [
           {
            "marker": {
             "line": {
              "color": "#E5ECF6",
              "width": 0.5
             },
             "pattern": {
              "fillmode": "overlay",
              "size": 10,
              "solidity": 0.2
             }
            },
            "type": "barpolar"
           }
          ],
          "carpet": [
           {
            "aaxis": {
             "endlinecolor": "#2a3f5f",
             "gridcolor": "white",
             "linecolor": "white",
             "minorgridcolor": "white",
             "startlinecolor": "#2a3f5f"
            },
            "baxis": {
             "endlinecolor": "#2a3f5f",
             "gridcolor": "white",
             "linecolor": "white",
             "minorgridcolor": "white",
             "startlinecolor": "#2a3f5f"
            },
            "type": "carpet"
           }
          ],
          "choropleth": [
           {
            "colorbar": {
             "outlinewidth": 0,
             "ticks": ""
            },
            "type": "choropleth"
           }
          ],
          "contour": [
           {
            "colorbar": {
             "outlinewidth": 0,
             "ticks": ""
            },
            "colorscale": [
             [
              0,
              "#0d0887"
             ],
             [
              0.1111111111111111,
              "#46039f"
             ],
             [
              0.2222222222222222,
              "#7201a8"
             ],
             [
              0.3333333333333333,
              "#9c179e"
             ],
             [
              0.4444444444444444,
              "#bd3786"
             ],
             [
              0.5555555555555556,
              "#d8576b"
             ],
             [
              0.6666666666666666,
              "#ed7953"
             ],
             [
              0.7777777777777778,
              "#fb9f3a"
             ],
             [
              0.8888888888888888,
              "#fdca26"
             ],
             [
              1,
              "#f0f921"
             ]
            ],
            "type": "contour"
           }
          ],
          "contourcarpet": [
           {
            "colorbar": {
             "outlinewidth": 0,
             "ticks": ""
            },
            "type": "contourcarpet"
           }
          ],
          "heatmap": [
           {
            "colorbar": {
             "outlinewidth": 0,
             "ticks": ""
            },
            "colorscale": [
             [
              0,
              "#0d0887"
             ],
             [
              0.1111111111111111,
              "#46039f"
             ],
             [
              0.2222222222222222,
              "#7201a8"
             ],
             [
              0.3333333333333333,
              "#9c179e"
             ],
             [
              0.4444444444444444,
              "#bd3786"
             ],
             [
              0.5555555555555556,
              "#d8576b"
             ],
             [
              0.6666666666666666,
              "#ed7953"
             ],
             [
              0.7777777777777778,
              "#fb9f3a"
             ],
             [
              0.8888888888888888,
              "#fdca26"
             ],
             [
              1,
              "#f0f921"
             ]
            ],
            "type": "heatmap"
           }
          ],
          "histogram": [
           {
            "marker": {
             "pattern": {
              "fillmode": "overlay",
              "size": 10,
              "solidity": 0.2
             }
            },
            "type": "histogram"
           }
          ],
          "histogram2d": [
           {
            "colorbar": {
             "outlinewidth": 0,
             "ticks": ""
            },
            "colorscale": [
             [
              0,
              "#0d0887"
             ],
             [
              0.1111111111111111,
              "#46039f"
             ],
             [
              0.2222222222222222,
              "#7201a8"
             ],
             [
              0.3333333333333333,
              "#9c179e"
             ],
             [
              0.4444444444444444,
              "#bd3786"
             ],
             [
              0.5555555555555556,
              "#d8576b"
             ],
             [
              0.6666666666666666,
              "#ed7953"
             ],
             [
              0.7777777777777778,
              "#fb9f3a"
             ],
             [
              0.8888888888888888,
              "#fdca26"
             ],
             [
              1,
              "#f0f921"
             ]
            ],
            "type": "histogram2d"
           }
          ],
          "histogram2dcontour": [
           {
            "colorbar": {
             "outlinewidth": 0,
             "ticks": ""
            },
            "colorscale": [
             [
              0,
              "#0d0887"
             ],
             [
              0.1111111111111111,
              "#46039f"
             ],
             [
              0.2222222222222222,
              "#7201a8"
             ],
             [
              0.3333333333333333,
              "#9c179e"
             ],
             [
              0.4444444444444444,
              "#bd3786"
             ],
             [
              0.5555555555555556,
              "#d8576b"
             ],
             [
              0.6666666666666666,
              "#ed7953"
             ],
             [
              0.7777777777777778,
              "#fb9f3a"
             ],
             [
              0.8888888888888888,
              "#fdca26"
             ],
             [
              1,
              "#f0f921"
             ]
            ],
            "type": "histogram2dcontour"
           }
          ],
          "mesh3d": [
           {
            "colorbar": {
             "outlinewidth": 0,
             "ticks": ""
            },
            "type": "mesh3d"
           }
          ],
          "parcoords": [
           {
            "line": {
             "colorbar": {
              "outlinewidth": 0,
              "ticks": ""
             }
            },
            "type": "parcoords"
           }
          ],
          "pie": [
           {
            "automargin": true,
            "type": "pie"
           }
          ],
          "scatter": [
           {
            "fillpattern": {
             "fillmode": "overlay",
             "size": 10,
             "solidity": 0.2
            },
            "type": "scatter"
           }
          ],
          "scatter3d": [
           {
            "line": {
             "colorbar": {
              "outlinewidth": 0,
              "ticks": ""
             }
            },
            "marker": {
             "colorbar": {
              "outlinewidth": 0,
              "ticks": ""
             }
            },
            "type": "scatter3d"
           }
          ],
          "scattercarpet": [
           {
            "marker": {
             "colorbar": {
              "outlinewidth": 0,
              "ticks": ""
             }
            },
            "type": "scattercarpet"
           }
          ],
          "scattergeo": [
           {
            "marker": {
             "colorbar": {
              "outlinewidth": 0,
              "ticks": ""
             }
            },
            "type": "scattergeo"
           }
          ],
          "scattergl": [
           {
            "marker": {
             "colorbar": {
              "outlinewidth": 0,
              "ticks": ""
             }
            },
            "type": "scattergl"
           }
          ],
          "scattermap": [
           {
            "marker": {
             "colorbar": {
              "outlinewidth": 0,
              "ticks": ""
             }
            },
            "type": "scattermap"
           }
          ],
          "scattermapbox": [
           {
            "marker": {
             "colorbar": {
              "outlinewidth": 0,
              "ticks": ""
             }
            },
            "type": "scattermapbox"
           }
          ],
          "scatterpolar": [
           {
            "marker": {
             "colorbar": {
              "outlinewidth": 0,
              "ticks": ""
             }
            },
            "type": "scatterpolar"
           }
          ],
          "scatterpolargl": [
           {
            "marker": {
             "colorbar": {
              "outlinewidth": 0,
              "ticks": ""
             }
            },
            "type": "scatterpolargl"
           }
          ],
          "scatterternary": [
           {
            "marker": {
             "colorbar": {
              "outlinewidth": 0,
              "ticks": ""
             }
            },
            "type": "scatterternary"
           }
          ],
          "surface": [
           {
            "colorbar": {
             "outlinewidth": 0,
             "ticks": ""
            },
            "colorscale": [
             [
              0,
              "#0d0887"
             ],
             [
              0.1111111111111111,
              "#46039f"
             ],
             [
              0.2222222222222222,
              "#7201a8"
             ],
             [
              0.3333333333333333,
              "#9c179e"
             ],
             [
              0.4444444444444444,
              "#bd3786"
             ],
             [
              0.5555555555555556,
              "#d8576b"
             ],
             [
              0.6666666666666666,
              "#ed7953"
             ],
             [
              0.7777777777777778,
              "#fb9f3a"
             ],
             [
              0.8888888888888888,
              "#fdca26"
             ],
             [
              1,
              "#f0f921"
             ]
            ],
            "type": "surface"
           }
          ],
          "table": [
           {
            "cells": {
             "fill": {
              "color": "#EBF0F8"
             },
             "line": {
              "color": "white"
             }
            },
            "header": {
             "fill": {
              "color": "#C8D4E3"
             },
             "line": {
              "color": "white"
             }
            },
            "type": "table"
           }
          ]
         },
         "layout": {
          "annotationdefaults": {
           "arrowcolor": "#2a3f5f",
           "arrowhead": 0,
           "arrowwidth": 1
          },
          "autotypenumbers": "strict",
          "coloraxis": {
           "colorbar": {
            "outlinewidth": 0,
            "ticks": ""
           }
          },
          "colorscale": {
           "diverging": [
            [
             0,
             "#8e0152"
            ],
            [
             0.1,
             "#c51b7d"
            ],
            [
             0.2,
             "#de77ae"
            ],
            [
             0.3,
             "#f1b6da"
            ],
            [
             0.4,
             "#fde0ef"
            ],
            [
             0.5,
             "#f7f7f7"
            ],
            [
             0.6,
             "#e6f5d0"
            ],
            [
             0.7,
             "#b8e186"
            ],
            [
             0.8,
             "#7fbc41"
            ],
            [
             0.9,
             "#4d9221"
            ],
            [
             1,
             "#276419"
            ]
           ],
           "sequential": [
            [
             0,
             "#0d0887"
            ],
            [
             0.1111111111111111,
             "#46039f"
            ],
            [
             0.2222222222222222,
             "#7201a8"
            ],
            [
             0.3333333333333333,
             "#9c179e"
            ],
            [
             0.4444444444444444,
             "#bd3786"
            ],
            [
             0.5555555555555556,
             "#d8576b"
            ],
            [
             0.6666666666666666,
             "#ed7953"
            ],
            [
             0.7777777777777778,
             "#fb9f3a"
            ],
            [
             0.8888888888888888,
             "#fdca26"
            ],
            [
             1,
             "#f0f921"
            ]
           ],
           "sequentialminus": [
            [
             0,
             "#0d0887"
            ],
            [
             0.1111111111111111,
             "#46039f"
            ],
            [
             0.2222222222222222,
             "#7201a8"
            ],
            [
             0.3333333333333333,
             "#9c179e"
            ],
            [
             0.4444444444444444,
             "#bd3786"
            ],
            [
             0.5555555555555556,
             "#d8576b"
            ],
            [
             0.6666666666666666,
             "#ed7953"
            ],
            [
             0.7777777777777778,
             "#fb9f3a"
            ],
            [
             0.8888888888888888,
             "#fdca26"
            ],
            [
             1,
             "#f0f921"
            ]
           ]
          },
          "colorway": [
           "#636efa",
           "#EF553B",
           "#00cc96",
           "#ab63fa",
           "#FFA15A",
           "#19d3f3",
           "#FF6692",
           "#B6E880",
           "#FF97FF",
           "#FECB52"
          ],
          "font": {
           "color": "#2a3f5f"
          },
          "geo": {
           "bgcolor": "white",
           "lakecolor": "white",
           "landcolor": "#E5ECF6",
           "showlakes": true,
           "showland": true,
           "subunitcolor": "white"
          },
          "hoverlabel": {
           "align": "left"
          },
          "hovermode": "closest",
          "mapbox": {
           "style": "light"
          },
          "paper_bgcolor": "white",
          "plot_bgcolor": "#E5ECF6",
          "polar": {
           "angularaxis": {
            "gridcolor": "white",
            "linecolor": "white",
            "ticks": ""
           },
           "bgcolor": "#E5ECF6",
           "radialaxis": {
            "gridcolor": "white",
            "linecolor": "white",
            "ticks": ""
           }
          },
          "scene": {
           "xaxis": {
            "backgroundcolor": "#E5ECF6",
            "gridcolor": "white",
            "gridwidth": 2,
            "linecolor": "white",
            "showbackground": true,
            "ticks": "",
            "zerolinecolor": "white"
           },
           "yaxis": {
            "backgroundcolor": "#E5ECF6",
            "gridcolor": "white",
            "gridwidth": 2,
            "linecolor": "white",
            "showbackground": true,
            "ticks": "",
            "zerolinecolor": "white"
           },
           "zaxis": {
            "backgroundcolor": "#E5ECF6",
            "gridcolor": "white",
            "gridwidth": 2,
            "linecolor": "white",
            "showbackground": true,
            "ticks": "",
            "zerolinecolor": "white"
           }
          },
          "shapedefaults": {
           "line": {
            "color": "#2a3f5f"
           }
          },
          "ternary": {
           "aaxis": {
            "gridcolor": "white",
            "linecolor": "white",
            "ticks": ""
           },
           "baxis": {
            "gridcolor": "white",
            "linecolor": "white",
            "ticks": ""
           },
           "bgcolor": "#E5ECF6",
           "caxis": {
            "gridcolor": "white",
            "linecolor": "white",
            "ticks": ""
           }
          },
          "title": {
           "x": 0.05
          },
          "xaxis": {
           "automargin": true,
           "gridcolor": "white",
           "linecolor": "white",
           "ticks": "",
           "title": {
            "standoff": 15
           },
           "zerolinecolor": "white",
           "zerolinewidth": 2
          },
          "yaxis": {
           "automargin": true,
           "gridcolor": "white",
           "linecolor": "white",
           "ticks": "",
           "title": {
            "standoff": 15
           },
           "zerolinecolor": "white",
           "zerolinewidth": 2
          }
         }
        },
        "width": 600
       }
      }
     },
     "metadata": {},
     "output_type": "display_data"
    }
   ],
   "source": [
    "fig = px.scatter_map(\n",
    "    df,  # Our DataFrame\n",
    "    lat=\"X5 latitude\",\n",
    "    lon=\"X6 longitude\",\n",
    "    width=600,  # Width of map\n",
    "    height=600,  # Height of map\n",
    "    color=\"Y house price of unit area\",\n",
    "    hover_data=[\"Y house price of unit area\"],  # Display price when hovering mouse over house\n",
    ")\n",
    "\n",
    "fig.update_layout(mapbox_style=\"open-street-map\")\n",
    "\n",
    "fig.show()"
   ]
  },
  {
   "cell_type": "markdown",
   "metadata": {},
   "source": [
    "We can see that the training data consists of properties near Taipei, Taiwan.  We can also see that all columns (1) have no missing values and (2) are not categorical.\n",
    "There is also no leakage, i.e., features that would give the model information to which it won't have access when it's deployed."
   ]
  },
  {
   "cell_type": "code",
   "execution_count": 6,
   "metadata": {},
   "outputs": [
    {
     "data": {
      "text/plain": [
       "<Axes: >"
      ]
     },
     "execution_count": 6,
     "metadata": {},
     "output_type": "execute_result"
    },
    {
     "data": {
      "image/png": "[encoded data removed]",
      "text/plain": [
       "<Figure size 640x480 with 2 Axes>"
      ]
     },
     "metadata": {},
     "output_type": "display_data"
    }
   ],
   "source": [
    "# Check for multicollinearity\n",
    "corr = df.select_dtypes(\"number\").drop(columns=\"Y house price of unit area\").corr()\n",
    "sns.heatmap(corr)"
   ]
  },
  {
   "cell_type": "code",
   "execution_count": null,
   "metadata": {},
   "outputs": [],
   "source": [
    "# Drop features with multicollinearity\n",
    "#df = df.drop(columns=[\"X1 transaction date\", \"X2 house age\", \"X4 number of convenience stores\"])\n",
    "\n",
    "# Check for multicollinearity\n",
    "#corr = df.select_dtypes(\"number\").drop(columns=\"Y house price of unit area\").corr()\n",
    "#sns.heatmap(corr)"
   ]
  },
  {
   "cell_type": "markdown",
   "metadata": {},
   "source": [
    "Split Data"
   ]
  },
  {
   "cell_type": "code",
   "execution_count": 7,
   "metadata": {},
   "outputs": [],
   "source": [
    "target = \"Y house price of unit area\"\n",
    "features = [\"X3 distance to the nearest MRT station\", \"X5 latitude\", \"X6 longitude\", \"X1 transaction date\", \"X2 house age\", \"X4 number of convenience stores\"]\n",
    "y_train = df[target]\n",
    "X_train = df[features]"
   ]
  },
  {
   "cell_type": "markdown",
   "metadata": {},
   "source": [
    "Build Model"
   ]
  },
  {
   "cell_type": "code",
   "execution_count": 8,
   "metadata": {},
   "outputs": [
    {
     "name": "stdout",
     "output_type": "stream",
     "text": [
      "Mean property price: 38.1\n",
      "Baseline MAE: 11.0\n"
     ]
    }
   ],
   "source": [
    "# Calculate baseline\n",
    "y_mean = y_train.mean()\n",
    "y_pred_baseline = [y_mean] * len(y_train)\n",
    "\n",
    "print(\"Mean property price:\", round(y_mean, 2))\n",
    "print(\"Baseline MAE:\", round(mean_absolute_error(y_train, y_pred_baseline), 2))"
   ]
  },
  {
   "cell_type": "markdown",
   "metadata": {},
   "source": [
    "Iterate"
   ]
  },
  {
   "cell_type": "code",
   "execution_count": 9,
   "metadata": {},
   "outputs": [
    {
     "data": {
      "text/html": [
       "<style>#sk-container-id-1 {\n",
       "  /* Definition of color scheme common for light and dark mode */\n",
       "  --sklearn-color-text: #000;\n",
       "  --sklearn-color-text-muted: #666;\n",
       "  --sklearn-color-line: gray;\n",
       "  /* Definition of color scheme for unfitted estimators */\n",
       "  --sklearn-color-unfitted-level-0: #fff5e6;\n",
       "  --sklearn-color-unfitted-level-1: #f6e4d2;\n",
       "  --sklearn-color-unfitted-level-2: #ffe0b3;\n",
       "  --sklearn-color-unfitted-level-3: chocolate;\n",
       "  /* Definition of color scheme for fitted estimators */\n",
       "  --sklearn-color-fitted-level-0: #f0f8ff;\n",
       "  --sklearn-color-fitted-level-1: #d4ebff;\n",
       "  --sklearn-color-fitted-level-2: #b3dbfd;\n",
       "  --sklearn-color-fitted-level-3: cornflowerblue;\n",
       "\n",
       "  /* Specific color for light theme */\n",
       "  --sklearn-color-text-on-default-background: var(--sg-text-color, var(--theme-code-foreground, var(--jp-content-font-color1, black)));\n",
       "  --sklearn-color-background: var(--sg-background-color, var(--theme-background, var(--jp-layout-color0, white)));\n",
       "  --sklearn-color-border-box: var(--sg-text-color, var(--theme-code-foreground, var(--jp-content-font-color1, black)));\n",
       "  --sklearn-color-icon: #696969;\n",
       "\n",
       "  @media (prefers-color-scheme: dark) {\n",
       "    /* Redefinition of color scheme for dark theme */\n",
       "    --sklearn-color-text-on-default-background: var(--sg-text-color, var(--theme-code-foreground, var(--jp-content-font-color1, white)));\n",
       "    --sklearn-color-background: var(--sg-background-color, var(--theme-background, var(--jp-layout-color0, #111)));\n",
       "    --sklearn-color-border-box: var(--sg-text-color, var(--theme-code-foreground, var(--jp-content-font-color1, white)));\n",
       "    --sklearn-color-icon: #878787;\n",
       "  }\n",
       "}\n",
       "\n",
       "#sk-container-id-1 {\n",
       "  color: var(--sklearn-color-text);\n",
       "}\n",
       "\n",
       "#sk-container-id-1 pre {\n",
       "  padding: 0;\n",
       "}\n",
       "\n",
       "#sk-container-id-1 input.sk-hidden--visually {\n",
       "  border: 0;\n",
       "  clip: rect(1px 1px 1px 1px);\n",
       "  clip: rect(1px, 1px, 1px, 1px);\n",
       "  height: 1px;\n",
       "  margin: -1px;\n",
       "  overflow: hidden;\n",
       "  padding: 0;\n",
       "  position: absolute;\n",
       "  width: 1px;\n",
       "}\n",
       "\n",
       "#sk-container-id-1 div.sk-dashed-wrapped {\n",
       "  border: 1px dashed var(--sklearn-color-line);\n",
       "  margin: 0 0.4em 0.5em 0.4em;\n",
       "  box-sizing: border-box;\n",
       "  padding-bottom: 0.4em;\n",
       "  background-color: var(--sklearn-color-background);\n",
       "}\n",
       "\n",
       "#sk-container-id-1 div.sk-container {\n",
       "  /* jupyter's `normalize.less` sets `[hidden] { display: none; }`\n",
       "     but bootstrap.min.css set `[hidden] { display: none !important; }`\n",
       "     so we also need the `!important` here to be able to override the\n",
       "     default hidden behavior on the sphinx rendered scikit-learn.org.\n",
       "     See: https://github.com/scikit-learn/scikit-learn/issues/21755 */\n",
       "  display: inline-block !important;\n",
       "  position: relative;\n",
       "}\n",
       "\n",
       "#sk-container-id-1 div.sk-text-repr-fallback {\n",
       "  display: none;\n",
       "}\n",
       "\n",
       "div.sk-parallel-item,\n",
       "div.sk-serial,\n",
       "div.sk-item {\n",
       "  /* draw centered vertical line to link estimators */\n",
       "  background-image: linear-gradient(var(--sklearn-color-text-on-default-background), var(--sklearn-color-text-on-default-background));\n",
       "  background-size: 2px 100%;\n",
       "  background-repeat: no-repeat;\n",
       "  background-position: center center;\n",
       "}\n",
       "\n",
       "/* Parallel-specific style estimator block */\n",
       "\n",
       "#sk-container-id-1 div.sk-parallel-item::after {\n",
       "  content: \"\";\n",
       "  width: 100%;\n",
       "  border-bottom: 2px solid var(--sklearn-color-text-on-default-background);\n",
       "  flex-grow: 1;\n",
       "}\n",
       "\n",
       "#sk-container-id-1 div.sk-parallel {\n",
       "  display: flex;\n",
       "  align-items: stretch;\n",
       "  justify-content: center;\n",
       "  background-color: var(--sklearn-color-background);\n",
       "  position: relative;\n",
       "}\n",
       "\n",
       "#sk-container-id-1 div.sk-parallel-item {\n",
       "  display: flex;\n",
       "  flex-direction: column;\n",
       "}\n",
       "\n",
       "#sk-container-id-1 div.sk-parallel-item:first-child::after {\n",
       "  align-self: flex-end;\n",
       "  width: 50%;\n",
       "}\n",
       "\n",
       "#sk-container-id-1 div.sk-parallel-item:last-child::after {\n",
       "  align-self: flex-start;\n",
       "  width: 50%;\n",
       "}\n",
       "\n",
       "#sk-container-id-1 div.sk-parallel-item:only-child::after {\n",
       "  width: 0;\n",
       "}\n",
       "\n",
       "/* Serial-specific style estimator block */\n",
       "\n",
       "#sk-container-id-1 div.sk-serial {\n",
       "  display: flex;\n",
       "  flex-direction: column;\n",
       "  align-items: center;\n",
       "  background-color: var(--sklearn-color-background);\n",
       "  padding-right: 1em;\n",
       "  padding-left: 1em;\n",
       "}\n",
       "\n",
       "\n",
       "/* Toggleable style: style used for estimator/Pipeline/ColumnTransformer box that is\n",
       "clickable and can be expanded/collapsed.\n",
       "- Pipeline and ColumnTransformer use this feature and define the default style\n",
       "- Estimators will overwrite some part of the style using the `sk-estimator` class\n",
       "*/\n",
       "\n",
       "/* Pipeline and ColumnTransformer style (default) */\n",
       "\n",
       "#sk-container-id-1 div.sk-toggleable {\n",
       "  /* Default theme specific background. It is overwritten whether we have a\n",
       "  specific estimator or a Pipeline/ColumnTransformer */\n",
       "  background-color: var(--sklearn-color-background);\n",
       "}\n",
       "\n",
       "/* Toggleable label */\n",
       "#sk-container-id-1 label.sk-toggleable__label {\n",
       "  cursor: pointer;\n",
       "  display: flex;\n",
       "  width: 100%;\n",
       "  margin-bottom: 0;\n",
       "  padding: 0.5em;\n",
       "  box-sizing: border-box;\n",
       "  text-align: center;\n",
       "  align-items: start;\n",
       "  justify-content: space-between;\n",
       "  gap: 0.5em;\n",
       "}\n",
       "\n",
       "#sk-container-id-1 label.sk-toggleable__label .caption {\n",
       "  font-size: 0.6rem;\n",
       "  font-weight: lighter;\n",
       "  color: var(--sklearn-color-text-muted);\n",
       "}\n",
       "\n",
       "#sk-container-id-1 label.sk-toggleable__label-arrow:before {\n",
       "  /* Arrow on the left of the label */\n",
       "  content: \"▸\";\n",
       "  float: left;\n",
       "  margin-right: 0.25em;\n",
       "  color: var(--sklearn-color-icon);\n",
       "}\n",
       "\n",
       "#sk-container-id-1 label.sk-toggleable__label-arrow:hover:before {\n",
       "  color: var(--sklearn-color-text);\n",
       "}\n",
       "\n",
       "/* Toggleable content - dropdown */\n",
       "\n",
       "#sk-container-id-1 div.sk-toggleable__content {\n",
       "  max-height: 0;\n",
       "  max-width: 0;\n",
       "  overflow: hidden;\n",
       "  text-align: left;\n",
       "  /* unfitted */\n",
       "  background-color: var(--sklearn-color-unfitted-level-0);\n",
       "}\n",
       "\n",
       "#sk-container-id-1 div.sk-toggleable__content.fitted {\n",
       "  /* fitted */\n",
       "  background-color: var(--sklearn-color-fitted-level-0);\n",
       "}\n",
       "\n",
       "#sk-container-id-1 div.sk-toggleable__content pre {\n",
       "  margin: 0.2em;\n",
       "  border-radius: 0.25em;\n",
       "  color: var(--sklearn-color-text);\n",
       "  /* unfitted */\n",
       "  background-color: var(--sklearn-color-unfitted-level-0);\n",
       "}\n",
       "\n",
       "#sk-container-id-1 div.sk-toggleable__content.fitted pre {\n",
       "  /* unfitted */\n",
       "  background-color: var(--sklearn-color-fitted-level-0);\n",
       "}\n",
       "\n",
       "#sk-container-id-1 input.sk-toggleable__control:checked~div.sk-toggleable__content {\n",
       "  /* Expand drop-down */\n",
       "  max-height: 200px;\n",
       "  max-width: 100%;\n",
       "  overflow: auto;\n",
       "}\n",
       "\n",
       "#sk-container-id-1 input.sk-toggleable__control:checked~label.sk-toggleable__label-arrow:before {\n",
       "  content: \"▾\";\n",
       "}\n",
       "\n",
       "/* Pipeline/ColumnTransformer-specific style */\n",
       "\n",
       "#sk-container-id-1 div.sk-label input.sk-toggleable__control:checked~label.sk-toggleable__label {\n",
       "  color: var(--sklearn-color-text);\n",
       "  background-color: var(--sklearn-color-unfitted-level-2);\n",
       "}\n",
       "\n",
       "#sk-container-id-1 div.sk-label.fitted input.sk-toggleable__control:checked~label.sk-toggleable__label {\n",
       "  background-color: var(--sklearn-color-fitted-level-2);\n",
       "}\n",
       "\n",
       "/* Estimator-specific style */\n",
       "\n",
       "/* Colorize estimator box */\n",
       "#sk-container-id-1 div.sk-estimator input.sk-toggleable__control:checked~label.sk-toggleable__label {\n",
       "  /* unfitted */\n",
       "  background-color: var(--sklearn-color-unfitted-level-2);\n",
       "}\n",
       "\n",
       "#sk-container-id-1 div.sk-estimator.fitted input.sk-toggleable__control:checked~label.sk-toggleable__label {\n",
       "  /* fitted */\n",
       "  background-color: var(--sklearn-color-fitted-level-2);\n",
       "}\n",
       "\n",
       "#sk-container-id-1 div.sk-label label.sk-toggleable__label,\n",
       "#sk-container-id-1 div.sk-label label {\n",
       "  /* The background is the default theme color */\n",
       "  color: var(--sklearn-color-text-on-default-background);\n",
       "}\n",
       "\n",
       "/* On hover, darken the color of the background */\n",
       "#sk-container-id-1 div.sk-label:hover label.sk-toggleable__label {\n",
       "  color: var(--sklearn-color-text);\n",
       "  background-color: var(--sklearn-color-unfitted-level-2);\n",
       "}\n",
       "\n",
       "/* Label box, darken color on hover, fitted */\n",
       "#sk-container-id-1 div.sk-label.fitted:hover label.sk-toggleable__label.fitted {\n",
       "  color: var(--sklearn-color-text);\n",
       "  background-color: var(--sklearn-color-fitted-level-2);\n",
       "}\n",
       "\n",
       "/* Estimator label */\n",
       "\n",
       "#sk-container-id-1 div.sk-label label {\n",
       "  font-family: monospace;\n",
       "  font-weight: bold;\n",
       "  display: inline-block;\n",
       "  line-height: 1.2em;\n",
       "}\n",
       "\n",
       "#sk-container-id-1 div.sk-label-container {\n",
       "  text-align: center;\n",
       "}\n",
       "\n",
       "/* Estimator-specific */\n",
       "#sk-container-id-1 div.sk-estimator {\n",
       "  font-family: monospace;\n",
       "  border: 1px dotted var(--sklearn-color-border-box);\n",
       "  border-radius: 0.25em;\n",
       "  box-sizing: border-box;\n",
       "  margin-bottom: 0.5em;\n",
       "  /* unfitted */\n",
       "  background-color: var(--sklearn-color-unfitted-level-0);\n",
       "}\n",
       "\n",
       "#sk-container-id-1 div.sk-estimator.fitted {\n",
       "  /* fitted */\n",
       "  background-color: var(--sklearn-color-fitted-level-0);\n",
       "}\n",
       "\n",
       "/* on hover */\n",
       "#sk-container-id-1 div.sk-estimator:hover {\n",
       "  /* unfitted */\n",
       "  background-color: var(--sklearn-color-unfitted-level-2);\n",
       "}\n",
       "\n",
       "#sk-container-id-1 div.sk-estimator.fitted:hover {\n",
       "  /* fitted */\n",
       "  background-color: var(--sklearn-color-fitted-level-2);\n",
       "}\n",
       "\n",
       "/* Specification for estimator info (e.g. \"i\" and \"?\") */\n",
       "\n",
       "/* Common style for \"i\" and \"?\" */\n",
       "\n",
       ".sk-estimator-doc-link,\n",
       "a:link.sk-estimator-doc-link,\n",
       "a:visited.sk-estimator-doc-link {\n",
       "  float: right;\n",
       "  font-size: smaller;\n",
       "  line-height: 1em;\n",
       "  font-family: monospace;\n",
       "  background-color: var(--sklearn-color-background);\n",
       "  border-radius: 1em;\n",
       "  height: 1em;\n",
       "  width: 1em;\n",
       "  text-decoration: none !important;\n",
       "  margin-left: 0.5em;\n",
       "  text-align: center;\n",
       "  /* unfitted */\n",
       "  border: var(--sklearn-color-unfitted-level-1) 1pt solid;\n",
       "  color: var(--sklearn-color-unfitted-level-1);\n",
       "}\n",
       "\n",
       ".sk-estimator-doc-link.fitted,\n",
       "a:link.sk-estimator-doc-link.fitted,\n",
       "a:visited.sk-estimator-doc-link.fitted {\n",
       "  /* fitted */\n",
       "  border: var(--sklearn-color-fitted-level-1) 1pt solid;\n",
       "  color: var(--sklearn-color-fitted-level-1);\n",
       "}\n",
       "\n",
       "/* On hover */\n",
       "div.sk-estimator:hover .sk-estimator-doc-link:hover,\n",
       ".sk-estimator-doc-link:hover,\n",
       "div.sk-label-container:hover .sk-estimator-doc-link:hover,\n",
       ".sk-estimator-doc-link:hover {\n",
       "  /* unfitted */\n",
       "  background-color: var(--sklearn-color-unfitted-level-3);\n",
       "  color: var(--sklearn-color-background);\n",
       "  text-decoration: none;\n",
       "}\n",
       "\n",
       "div.sk-estimator.fitted:hover .sk-estimator-doc-link.fitted:hover,\n",
       ".sk-estimator-doc-link.fitted:hover,\n",
       "div.sk-label-container:hover .sk-estimator-doc-link.fitted:hover,\n",
       ".sk-estimator-doc-link.fitted:hover {\n",
       "  /* fitted */\n",
       "  background-color: var(--sklearn-color-fitted-level-3);\n",
       "  color: var(--sklearn-color-background);\n",
       "  text-decoration: none;\n",
       "}\n",
       "\n",
       "/* Span, style for the box shown on hovering the info icon */\n",
       ".sk-estimator-doc-link span {\n",
       "  display: none;\n",
       "  z-index: 9999;\n",
       "  position: relative;\n",
       "  font-weight: normal;\n",
       "  right: .2ex;\n",
       "  padding: .5ex;\n",
       "  margin: .5ex;\n",
       "  width: min-content;\n",
       "  min-width: 20ex;\n",
       "  max-width: 50ex;\n",
       "  color: var(--sklearn-color-text);\n",
       "  box-shadow: 2pt 2pt 4pt #999;\n",
       "  /* unfitted */\n",
       "  background: var(--sklearn-color-unfitted-level-0);\n",
       "  border: .5pt solid var(--sklearn-color-unfitted-level-3);\n",
       "}\n",
       "\n",
       ".sk-estimator-doc-link.fitted span {\n",
       "  /* fitted */\n",
       "  background: var(--sklearn-color-fitted-level-0);\n",
       "  border: var(--sklearn-color-fitted-level-3);\n",
       "}\n",
       "\n",
       ".sk-estimator-doc-link:hover span {\n",
       "  display: block;\n",
       "}\n",
       "\n",
       "/* \"?\"-specific style due to the `<a>` HTML tag */\n",
       "\n",
       "#sk-container-id-1 a.estimator_doc_link {\n",
       "  float: right;\n",
       "  font-size: 1rem;\n",
       "  line-height: 1em;\n",
       "  font-family: monospace;\n",
       "  background-color: var(--sklearn-color-background);\n",
       "  border-radius: 1rem;\n",
       "  height: 1rem;\n",
       "  width: 1rem;\n",
       "  text-decoration: none;\n",
       "  /* unfitted */\n",
       "  color: var(--sklearn-color-unfitted-level-1);\n",
       "  border: var(--sklearn-color-unfitted-level-1) 1pt solid;\n",
       "}\n",
       "\n",
       "#sk-container-id-1 a.estimator_doc_link.fitted {\n",
       "  /* fitted */\n",
       "  border: var(--sklearn-color-fitted-level-1) 1pt solid;\n",
       "  color: var(--sklearn-color-fitted-level-1);\n",
       "}\n",
       "\n",
       "/* On hover */\n",
       "#sk-container-id-1 a.estimator_doc_link:hover {\n",
       "  /* unfitted */\n",
       "  background-color: var(--sklearn-color-unfitted-level-3);\n",
       "  color: var(--sklearn-color-background);\n",
       "  text-decoration: none;\n",
       "}\n",
       "\n",
       "#sk-container-id-1 a.estimator_doc_link.fitted:hover {\n",
       "  /* fitted */\n",
       "  background-color: var(--sklearn-color-fitted-level-3);\n",
       "}\n",
       "</style><div id=\"sk-container-id-1\" class=\"sk-top-container\"><div class=\"sk-text-repr-fallback\"><pre>Pipeline(steps=[(&#x27;ridge&#x27;, Ridge())])</pre><b>In a Jupyter environment, please rerun this cell to show the HTML representation or trust the notebook. <br />On GitHub, the HTML representation is unable to render, please try loading this page with nbviewer.org.</b></div><div class=\"sk-container\" hidden><div class=\"sk-item sk-dashed-wrapped\"><div class=\"sk-label-container\"><div class=\"sk-label fitted sk-toggleable\"><input class=\"sk-toggleable__control sk-hidden--visually\" id=\"sk-estimator-id-1\" type=\"checkbox\" ><label for=\"sk-estimator-id-1\" class=\"sk-toggleable__label fitted sk-toggleable__label-arrow\"><div><div>Pipeline</div></div><div><a class=\"sk-estimator-doc-link fitted\" rel=\"noreferrer\" target=\"_blank\" href=\"https://scikit-learn.org/1.6/modules/generated/sklearn.pipeline.Pipeline.html\">?<span>Documentation for Pipeline</span></a><span class=\"sk-estimator-doc-link fitted\">i<span>Fitted</span></span></div></label><div class=\"sk-toggleable__content fitted\"><pre>Pipeline(steps=[(&#x27;ridge&#x27;, Ridge())])</pre></div> </div></div><div class=\"sk-serial\"><div class=\"sk-item\"><div class=\"sk-estimator fitted sk-toggleable\"><input class=\"sk-toggleable__control sk-hidden--visually\" id=\"sk-estimator-id-2\" type=\"checkbox\" ><label for=\"sk-estimator-id-2\" class=\"sk-toggleable__label fitted sk-toggleable__label-arrow\"><div><div>Ridge</div></div><div><a class=\"sk-estimator-doc-link fitted\" rel=\"noreferrer\" target=\"_blank\" href=\"https://scikit-learn.org/1.6/modules/generated/sklearn.linear_model.Ridge.html\">?<span>Documentation for Ridge</span></a></div></label><div class=\"sk-toggleable__content fitted\"><pre>Ridge()</pre></div> </div></div></div></div></div></div>"
      ],
      "text/plain": [
       "Pipeline(steps=[('ridge', Ridge())])"
      ]
     },
     "execution_count": 9,
     "metadata": {},
     "output_type": "execute_result"
    }
   ],
   "source": [
    "# Create pipeline.  Used ridge regression to prevent overfitting; features are highly correlated and small data set size\n",
    "model = make_pipeline(\n",
    "    Ridge()\n",
    ")\n",
    "model.fit(X_train, y_train)"
   ]
  },
  {
   "cell_type": "markdown",
   "metadata": {},
   "source": [
    "Evaluate"
   ]
  },
  {
   "cell_type": "code",
   "execution_count": 10,
   "metadata": {},
   "outputs": [
    {
     "name": "stdout",
     "output_type": "stream",
     "text": [
      "Training MAE: 6.55\n"
     ]
    }
   ],
   "source": [
    "# Predict y with X_train data\n",
    "y_pred_training = model.predict(X_train)\n",
    "print(\"Training MAE:\", round(mean_absolute_error(y_train, y_pred_training), 2))"
   ]
  },
  {
   "cell_type": "markdown",
   "metadata": {},
   "source": [
    "Training MAE is lower than Baseline MAE.  The model is predicting well.\n",
    "Iterated by keeping columns that were previously dropped for multicollinearity.  Ridge regression was effective in addressing multicollinearity without dropping columns.  Training MAE remains lower than Baseline MAE."
   ]
  },
  {
   "cell_type": "code",
   "execution_count": 11,
   "metadata": {},
   "outputs": [
    {
     "name": "stdout",
     "output_type": "stream",
     "text": [
      "Training features: ['X3 distance to the nearest MRT station', 'X5 latitude', 'X6 longitude', 'X1 transaction date', 'X2 house age', 'X4 number of convenience stores']\n",
      "Testing features: ['X1 transaction date', 'X2 house age', 'X3 distance to the nearest MRT station', 'X4 number of convenience stores', 'X5 latitude', 'X6 longitude']\n"
     ]
    }
   ],
   "source": [
    "# Test model with test data\n",
    "\n",
    "# Read in test data\n",
    "X_test = pd.read_csv(r\"C:\\Users\\tiffa\\Documents\\Career\\Real estate\\Real estate_test.csv\").drop(columns=['No', 'Y house price of unit area'])\n",
    "\n",
    "# Check feature sort orders\n",
    "print(\"Training features:\", X_train.columns.tolist())\n",
    "print(\"Testing features:\", X_test.columns.tolist())"
   ]
  },
  {
   "cell_type": "code",
   "execution_count": 12,
   "metadata": {},
   "outputs": [
    {
     "name": "stdout",
     "output_type": "stream",
     "text": [
      "Training features: ['X3 distance to the nearest MRT station', 'X5 latitude', 'X6 longitude', 'X1 transaction date', 'X2 house age', 'X4 number of convenience stores']\n",
      "Testing features: ['X3 distance to the nearest MRT station', 'X5 latitude', 'X6 longitude', 'X1 transaction date', 'X2 house age', 'X4 number of convenience stores']\n"
     ]
    }
   ],
   "source": [
    "# Features aren't in the same order so make X_test match X_train columns (both names and order)\n",
    "X_test = X_test[X_train.columns]\n",
    "\n",
    "# Check feature sort orders again\n",
    "print(\"Training features:\", X_train.columns.tolist())\n",
    "print(\"Testing features:\", X_test.columns.tolist())"
   ]
  },
  {
   "cell_type": "code",
   "execution_count": 13,
   "metadata": {},
   "outputs": [
    {
     "data": {
      "text/plain": [
       "0    47.621119\n",
       "1    32.089529\n",
       "2    48.080159\n",
       "3    35.648612\n",
       "4    53.451438\n",
       "dtype: float64"
      ]
     },
     "execution_count": 13,
     "metadata": {},
     "output_type": "execute_result"
    }
   ],
   "source": [
    "# Predict y with X_test data\n",
    "y_pred_test = pd.Series(model.predict(X_test))\n",
    "y_pred_test.head()"
   ]
  },
  {
   "cell_type": "code",
   "execution_count": 14,
   "metadata": {},
   "outputs": [
    {
     "name": "stdout",
     "output_type": "stream",
     "text": [
      "Test MAE: 5.91\n"
     ]
    }
   ],
   "source": [
    "# Evaluate predicted y with test data\n",
    "y_test = pd.read_csv(r\"C:\\Users\\tiffa\\Documents\\Career\\Real estate\\Real estate_test.csv\")['Y house price of unit area']\n",
    "print(\"Test MAE:\", round(mean_absolute_error(y_test, y_pred_test), 2))"
   ]
  },
  {
   "cell_type": "markdown",
   "metadata": {},
   "source": [
    "Test was successful!  Test MAE is even lower than Training MAE."
   ]
  },
  {
   "cell_type": "markdown",
   "metadata": {},
   "source": [
    "Communicate Results"
   ]
  },
  {
   "cell_type": "code",
   "execution_count": 18,
   "metadata": {},
   "outputs": [
    {
     "name": "stdout",
     "output_type": "stream",
     "text": [
      "Intercept: -11353.0\n",
      "Coefficients: [-0.  8. -1.  6. -0.  1.]\n"
     ]
    }
   ],
   "source": [
    "intercept = model.named_steps[\"ridge\"].intercept_.round(0)\n",
    "coefficients = model.named_steps[\"ridge\"].coef_.round(0)\n",
    "print(f\"Intercept: {intercept}\")\n",
    "print(\"Coefficients:\", coefficients)"
   ]
  },
  {
   "cell_type": "code",
   "execution_count": 19,
   "metadata": {},
   "outputs": [],
   "source": [
    "# Deploy model in a function that returns model's prediction\n",
    "def make_prediction( distance, lat, lon, date, house_age, number_stores):\n",
    "    # Create a DataFrame with the features\n",
    "    data = {\n",
    "        \"X3 distance to the nearest MRT station\": [distance],\n",
    "        \"X5 latitude\": [lat],\n",
    "        \"X6 longitude\": [lon],\n",
    "        \"X1 transaction date\": [date],\n",
    "        \"X2 house age\": [house_age],\n",
    "        \"X4 number of convenience stores\": [number_stores]\n",
    "    }\n",
    "    # Put data into a df\n",
    "    df = pd.DataFrame(data, index=[0])\n",
    "    # Use the model to make a prediction\n",
    "    y_pred = model.predict(df).round(2)[0]\n",
    "    # Print the prediction\n",
    "    return f\"Predicted price per unit area: ${y_pred}\""
   ]
  },
  {
   "cell_type": "code",
   "execution_count": 20,
   "metadata": {},
   "outputs": [
    {
     "data": {
      "text/plain": [
       "'Predicted price per unit area: $46.07'"
      ]
     },
     "execution_count": 20,
     "metadata": {},
     "output_type": "execute_result"
    }
   ],
   "source": [
    "# Check that function works\n",
    "make_prediction(84.87882, 24.98298, 121.54024, 2012.917, 32, 10)"
   ]
  },
  {
   "cell_type": "code",
   "execution_count": null,
   "metadata": {},
   "outputs": [
    {
     "data": {
      "application/vnd.jupyter.widget-view+json": {
       "model_id": "d95d213d72f842ada86fe6fdb7c5551c",
       "version_major": 2,
       "version_minor": 0
      },
      "text/plain": [
       "interactive(children=(FloatSlider(value=1080.5541012101912, description='distance', max=6396.283, min=23.38284…"
      ]
     },
     "metadata": {},
     "output_type": "display_data"
    }
   ],
   "source": [
    "# Deploy model in an interative widget\n",
    "interact(\n",
    "    make_prediction,\n",
    "    distance=FloatSlider(\n",
    "        value=X_train[\"X3 distance to the nearest MRT station\"].mean(), \n",
    "        min=X_train[\"X3 distance to the nearest MRT station\"].min(), \n",
    "        max=X_train[\"X3 distance to the nearest MRT station\"].max(), \n",
    "        step=1\n",
    "        ),\n",
    "    lat=FloatSlider(\n",
    "        value=X_train[\"X5 latitude\"].mean(), \n",
    "        min=X_train[\"X5 latitude\"].min(), \n",
    "        max=X_train[\"X5 latitude\"].max(), \n",
    "        step=1\n",
    "        ),\n",
    "    lon=FloatSlider(\n",
    "        value=X_train[\"X6 longitude\"].mean(), \n",
    "        min=X_train[\"X6 longitude\"].min(), \n",
    "        max=X_train[\"X6 longitude\"].max(), \n",
    "        step=1\n",
    "        ),\n",
    "    date=FloatSlider(\n",
    "        value=X_train[\"X1 transaction date\"].mean(), \n",
    "        min=X_train[\"X1 transaction date\"].min(), \n",
    "        max=X_train[\"X1 transaction date\"].max(), \n",
    "        step=0.001\n",
    "        ),\n",
    "    house_age=IntSlider(\n",
    "        value=X_train[\"X2 house age\"].mean(), \n",
    "        min=X_train[\"X2 house age\"].min(), \n",
    "        max=X_train[\"X2 house age\"].max(), \n",
    "        step=1\n",
    "        ),\n",
    "    number_stores=IntSlider(\n",
    "        value=X_train[\"X4 number of convenience stores\"].mean(), \n",
    "        min=X_train[\"X4 number of convenience stores\"].min(), \n",
    "        max=X_train[\"X4 number of convenience stores\"].max(), \n",
    "        step=1\n",
    "        )\n",
    ");"
   ]
  }
 ],
 "metadata": {
  "kernelspec": {
   "display_name": "Python 3",
   "language": "python",
   "name": "python3"
  },
  "language_info": {
   "codemirror_mode": {
    "name": "ipython",
    "version": 3
   },
   "file_extension": ".py",
   "mimetype": "text/x-python",
   "name": "python",
   "nbconvert_exporter": "python",
   "pygments_lexer": "ipython3",
   "version": "3.13.2"
  }
 },
 "nbformat": 4,
 "nbformat_minor": 2
}
